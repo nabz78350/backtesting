{
 "cells": [
  {
   "cell_type": "code",
   "execution_count": 1,
   "metadata": {},
   "outputs": [
    {
     "data": {
      "image/png": "[encoded data removed]",
      "text/plain": [
       "<Figure size 432x288 with 1 Axes>"
      ]
     },
     "metadata": {
      "needs_background": "light"
     },
     "output_type": "display_data"
    }
   ],
   "source": [
    "import pandas as pd\n",
    "import numpy as np\n",
    "from data_master import DataMaster\n",
    "from utils import func\n",
    "from scipy.stats import norm\n",
    "master = DataMaster()\n",
    "from utils.func import center\n",
    "from quantstats.stats import sharpe\n",
    "import datetime\n",
    "from tqdm import tqdm\n",
    "import pandas_ta as ta\n",
    "\n",
    "\n",
    "\n",
    "universe = master.baskets.get_index_historical_components('GSPC')\n",
    "P = func.presence_matrix(universe).loc['2008':]\n",
    "P.sum(1).plot()\n",
    "market_data = pd.read_parquet('data/US/mkt_data.pq')\n",
    "balance_sheet = pd.read_parquet('data/US/balance_sheets.pq')\n",
    "GICS = pd.read_parquet('data/US/GICS.pq')\n",
    "P = pd.read_parquet('data/US/universe_table.pq')\n",
    "R = market_data['close'].unstack().reindex_like(P).pct_change()\n",
    "income_statement = pd.read_parquet('data/US/income_statement.pq')"
   ]
  },
  {
   "cell_type": "code",
   "execution_count": 72,
   "metadata": {},
   "outputs": [
    {
     "name": "stdout",
     "output_type": "stream",
     "text": [
      "Help on function cfo in module pandas_ta.momentum.cfo:\n",
      "\n",
      "cfo(close, length=None, scalar=None, drift=None, offset=None, **kwargs)\n",
      "    Chande Forcast Oscillator (CFO)\n",
      "    \n",
      "    The Forecast Oscillator calculates the percentage difference between the actual\n",
      "    price and the Time Series Forecast (the endpoint of a linear regression line).\n",
      "    \n",
      "    Sources:\n",
      "        https://www.fmlabs.com/reference/default.htm?url=ForecastOscillator.htm\n",
      "    \n",
      "    Calculation:\n",
      "        Default Inputs:\n",
      "            length=9, drift=1, scalar=100\n",
      "        LINREG = Linear Regression\n",
      "    \n",
      "        CFO = scalar * (close - LINERREG(length, tdf=True)) / close\n",
      "    \n",
      "    Args:\n",
      "        close (pd.Series): Series of 'close's\n",
      "        length (int): The period. Default: 9\n",
      "        scalar (float): How much to magnify. Default: 100\n",
      "        drift (int): The short period. Default: 1\n",
      "        offset (int): How many periods to offset the result. Default: 0\n",
      "    \n",
      "    Kwargs:\n",
      "        fillna (value, optional): pd.DataFrame.fillna(value)\n",
      "        fill_method (value, optional): Type of fill method\n",
      "    \n",
      "    Returns:\n",
      "        pd.Series: New feature generated.\n",
      "\n"
     ]
    }
   ],
   "source": [
    "help(ta.cfo)"
   ]
  },
  {
   "cell_type": "code",
   "execution_count": 78,
   "metadata": {},
   "outputs": [
    {
     "data": {
      "text/plain": [
       "Date\n",
       "2008-01-02         NaN\n",
       "2008-01-03         NaN\n",
       "2008-01-04         NaN\n",
       "2008-01-07         NaN\n",
       "2008-01-08         NaN\n",
       "                ...   \n",
       "2023-03-30    0.609890\n",
       "2023-03-31    1.445522\n",
       "2023-04-03    1.310696\n",
       "2023-04-04    0.525454\n",
       "2023-04-05   -0.997004\n",
       "Name: CFO_9, Length: 3842, dtype: float64"
      ]
     },
     "execution_count": 78,
     "metadata": {},
     "output_type": "execute_result"
    }
   ],
   "source": [
    "aapl = market_data.xs('AAPL',level=1)\n",
    "ta.cfo(aapl['high'])\n"
   ]
  },
  {
   "cell_type": "code",
   "execution_count": 11,
   "metadata": {},
   "outputs": [
    {
     "name": "stderr",
     "output_type": "stream",
     "text": [
      "100%|██████████| 904/904 [00:14<00:00, 60.92it/s] \n"
     ]
    }
   ],
   "source": [
    "squeeze_data ={}\n",
    "for ticker in tqdm(P.columns.tolist()):\n",
    "    try :\n",
    "        df_ticker = market_data.xs(ticker,level=1)\n",
    "        squeeze = ta.cfo(df_ticker['lo<w']) \n",
    "        # squeeze = ta.stoch(df_ticker['high'],df_ticker['low'],df_ticker['close'],k=10,mamode='ema',d=25).iloc[:,0]\n",
    "        squeeze_data[ticker] = squeeze\n",
    "    except :\n",
    "        pass"
   ]
  },
  {
   "cell_type": "code",
   "execution_count": 12,
   "metadata": {},
   "outputs": [
    {
     "ename": "ValueError",
     "evalue": "No objects to concatenate",
     "output_type": "error",
     "traceback": [
      "\u001b[1;31m---------------------------------------------------------------------------\u001b[0m",
      "\u001b[1;31mValueError\u001b[0m                                Traceback (most recent call last)",
      "\u001b[1;32mc:\\Users\\marti\\Documents\\research perso\\alpha_sub.ipynb Cell 5\u001b[0m in \u001b[0;36m<module>\u001b[1;34m\u001b[0m\n\u001b[1;32m----> <a href='vscode-notebook-cell:/c%3A/Users/marti/Documents/research%20perso/alpha_sub.ipynb#X25sZmlsZQ%3D%3D?line=0'>1</a>\u001b[0m squeeze_data \u001b[39m=\u001b[39m pd\u001b[39m.\u001b[39;49mconcat(squeeze_data,axis\u001b[39m=\u001b[39;49m\u001b[39m1\u001b[39;49m)\u001b[39m.\u001b[39mreindex_like(P)\u001b[39m.\u001b[39mffill()\n\u001b[0;32m      <a href='vscode-notebook-cell:/c%3A/Users/marti/Documents/research%20perso/alpha_sub.ipynb#X25sZmlsZQ%3D%3D?line=1'>2</a>\u001b[0m squeeze_data\u001b[39m.\u001b[39mcount(\u001b[39m1\u001b[39m)\u001b[39m.\u001b[39mplot()\n",
      "File \u001b[1;32mc:\\Users\\marti\\AppData\\Local\\Programs\\Python\\Python39\\lib\\site-packages\\pandas\\util\\_decorators.py:331\u001b[0m, in \u001b[0;36mdeprecate_nonkeyword_arguments.<locals>.decorate.<locals>.wrapper\u001b[1;34m(*args, **kwargs)\u001b[0m\n\u001b[0;32m    325\u001b[0m \u001b[39mif\u001b[39;00m \u001b[39mlen\u001b[39m(args) \u001b[39m>\u001b[39m num_allow_args:\n\u001b[0;32m    326\u001b[0m     warnings\u001b[39m.\u001b[39mwarn(\n\u001b[0;32m    327\u001b[0m         msg\u001b[39m.\u001b[39mformat(arguments\u001b[39m=\u001b[39m_format_argument_list(allow_args)),\n\u001b[0;32m    328\u001b[0m         \u001b[39mFutureWarning\u001b[39;00m,\n\u001b[0;32m    329\u001b[0m         stacklevel\u001b[39m=\u001b[39mfind_stack_level(),\n\u001b[0;32m    330\u001b[0m     )\n\u001b[1;32m--> 331\u001b[0m \u001b[39mreturn\u001b[39;00m func(\u001b[39m*\u001b[39margs, \u001b[39m*\u001b[39m\u001b[39m*\u001b[39mkwargs)\n",
      "File \u001b[1;32mc:\\Users\\marti\\AppData\\Local\\Programs\\Python\\Python39\\lib\\site-packages\\pandas\\core\\reshape\\concat.py:368\u001b[0m, in \u001b[0;36mconcat\u001b[1;34m(objs, axis, join, ignore_index, keys, levels, names, verify_integrity, sort, copy)\u001b[0m\n\u001b[0;32m    146\u001b[0m \u001b[39m@deprecate_nonkeyword_arguments\u001b[39m(version\u001b[39m=\u001b[39m\u001b[39mNone\u001b[39;00m, allowed_args\u001b[39m=\u001b[39m[\u001b[39m\"\u001b[39m\u001b[39mobjs\u001b[39m\u001b[39m\"\u001b[39m])\n\u001b[0;32m    147\u001b[0m \u001b[39mdef\u001b[39;00m \u001b[39mconcat\u001b[39m(\n\u001b[0;32m    148\u001b[0m     objs: Iterable[NDFrame] \u001b[39m|\u001b[39m Mapping[HashableT, NDFrame],\n\u001b[1;32m   (...)\u001b[0m\n\u001b[0;32m    157\u001b[0m     copy: \u001b[39mbool\u001b[39m \u001b[39m=\u001b[39m \u001b[39mTrue\u001b[39;00m,\n\u001b[0;32m    158\u001b[0m ) \u001b[39m-\u001b[39m\u001b[39m>\u001b[39m DataFrame \u001b[39m|\u001b[39m Series:\n\u001b[0;32m    159\u001b[0m \u001b[39m    \u001b[39m\u001b[39m\"\"\"\u001b[39;00m\n\u001b[0;32m    160\u001b[0m \u001b[39m    Concatenate pandas objects along a particular axis.\u001b[39;00m\n\u001b[0;32m    161\u001b[0m \n\u001b[1;32m   (...)\u001b[0m\n\u001b[0;32m    366\u001b[0m \u001b[39m    1   3   4\u001b[39;00m\n\u001b[0;32m    367\u001b[0m \u001b[39m    \"\"\"\u001b[39;00m\n\u001b[1;32m--> 368\u001b[0m     op \u001b[39m=\u001b[39m _Concatenator(\n\u001b[0;32m    369\u001b[0m         objs,\n\u001b[0;32m    370\u001b[0m         axis\u001b[39m=\u001b[39;49maxis,\n\u001b[0;32m    371\u001b[0m         ignore_index\u001b[39m=\u001b[39;49mignore_index,\n\u001b[0;32m    372\u001b[0m         join\u001b[39m=\u001b[39;49mjoin,\n\u001b[0;32m    373\u001b[0m         keys\u001b[39m=\u001b[39;49mkeys,\n\u001b[0;32m    374\u001b[0m         levels\u001b[39m=\u001b[39;49mlevels,\n\u001b[0;32m    375\u001b[0m         names\u001b[39m=\u001b[39;49mnames,\n\u001b[0;32m    376\u001b[0m         verify_integrity\u001b[39m=\u001b[39;49mverify_integrity,\n\u001b[0;32m    377\u001b[0m         copy\u001b[39m=\u001b[39;49mcopy,\n\u001b[0;32m    378\u001b[0m         sort\u001b[39m=\u001b[39;49msort,\n\u001b[0;32m    379\u001b[0m     )\n\u001b[0;32m    381\u001b[0m     \u001b[39mreturn\u001b[39;00m op\u001b[39m.\u001b[39mget_result()\n",
      "File \u001b[1;32mc:\\Users\\marti\\AppData\\Local\\Programs\\Python\\Python39\\lib\\site-packages\\pandas\\core\\reshape\\concat.py:425\u001b[0m, in \u001b[0;36m_Concatenator.__init__\u001b[1;34m(self, objs, axis, join, keys, levels, names, ignore_index, verify_integrity, copy, sort)\u001b[0m\n\u001b[0;32m    422\u001b[0m     objs \u001b[39m=\u001b[39m \u001b[39mlist\u001b[39m(objs)\n\u001b[0;32m    424\u001b[0m \u001b[39mif\u001b[39;00m \u001b[39mlen\u001b[39m(objs) \u001b[39m==\u001b[39m \u001b[39m0\u001b[39m:\n\u001b[1;32m--> 425\u001b[0m     \u001b[39mraise\u001b[39;00m \u001b[39mValueError\u001b[39;00m(\u001b[39m\"\u001b[39m\u001b[39mNo objects to concatenate\u001b[39m\u001b[39m\"\u001b[39m)\n\u001b[0;32m    427\u001b[0m \u001b[39mif\u001b[39;00m keys \u001b[39mis\u001b[39;00m \u001b[39mNone\u001b[39;00m:\n\u001b[0;32m    428\u001b[0m     objs \u001b[39m=\u001b[39m \u001b[39mlist\u001b[39m(com\u001b[39m.\u001b[39mnot_none(\u001b[39m*\u001b[39mobjs))\n",
      "\u001b[1;31mValueError\u001b[0m: No objects to concatenate"
     ]
    }
   ],
   "source": [
    "squeeze_data = pd.concat(squeeze_data,axis=1).reindex_like(P).ffill()\n",
    "squeeze_data.count(1).plot()"
   ]
  },
  {
   "cell_type": "code",
   "execution_count": null,
   "metadata": {},
   "outputs": [
    {
     "name": "stderr",
     "output_type": "stream",
     "text": [
      "C:\\Users\\marti\\AppData\\Local\\Temp\\ipykernel_183020\\422066660.py:2: FutureWarning: Passing additional kwargs to Rolling.rank has no impact on the result and is deprecated. This will raise a TypeError in a future version of pandas.\n",
      "  signal = signal[P].rolling(5).rank(axis=0,pct=True,ascending=False).clip(0.01,0.99).apply(norm.ppf)\n",
      "C:\\Users\\marti\\AppData\\Local\\Temp\\ipykernel_183020\\422066660.py:7: FutureWarning: Not prepending group keys to the result index of transform-like apply. In the future, the group keys will be included in the index, regardless of whether the applied function returns a like-indexed object.\n",
      "To preserve the previous behavior, use\n",
      "\n",
      "\t>>> .groupby(..., group_keys=False)\n",
      "\n",
      "To adopt the future behavior and silence this warning, use \n",
      "\n",
      "\t>>> .groupby(..., group_keys=True)\n",
      "  signal = signal[P].groupby(GICS['gicsect'],axis=1).apply(center)\n"
     ]
    },
    {
     "data": {
      "text/plain": [
       "Sharpe      0.465\n",
       "Turnover    1.265\n",
       "biais       0.736\n",
       "dtype: float64"
      ]
     },
     "execution_count": 10,
     "metadata": {},
     "output_type": "execute_result"
    },
    {
     "data": {
      "image/png": "[encoded data removed]",
      "text/plain": [
       "<Figure size 432x288 with 1 Axes>"
      ]
     },
     "metadata": {
      "needs_background": "light"
     },
     "output_type": "display_data"
    }
   ],
   "source": [
    "signal = squeeze_data[P].rank(1,pct=True,ascending=False).clip(0.01,0.99).apply(norm.ppf)\n",
    "signal = signal[P].rolling(5).rank(axis=0,pct=True,ascending=False).clip(0.01,0.99).apply(norm.ppf)\n",
    "signal = signal[P].rank(axis=1,pct=True,ascending=True).clip(0.01,0.99).apply(norm.ppf)\n",
    "\n",
    "signal[signal.abs()<0.75] = None\n",
    "\n",
    "signal = signal[P].groupby(GICS['gicsect'],axis=1).apply(center)\n",
    "signal = signal[P].div(signal[P].abs().sum(1),0)\n",
    "\n",
    "PNL = (signal[P].shift()*R).sum(1).loc['2010':]\n",
    "sr = sharpe(PNL)\n",
    "turnover = signal.fillna(0).diff().abs().sum(1).mean()\n",
    "PNL.cumsum().plot()\n",
    "pd.Series({'Sharpe':sr,'Turnover':turnover,'biais':PNL.mean()*1e4}).round(3)"
   ]
  },
  {
   "cell_type": "code",
   "execution_count": null,
   "metadata": {},
   "outputs": [],
   "source": []
  },
  {
   "cell_type": "code",
   "execution_count": null,
   "metadata": {},
   "outputs": [],
   "source": []
  },
  {
   "cell_type": "code",
   "execution_count": null,
   "metadata": {},
   "outputs": [],
   "source": []
  }
 ],
 "metadata": {
  "kernelspec": {
   "display_name": "Python 3",
   "language": "python",
   "name": "python3"
  },
  "language_info": {
   "codemirror_mode": {
    "name": "ipython",
    "version": 3
   },
   "file_extension": ".py",
   "mimetype": "text/x-python",
   "name": "python",
   "nbconvert_exporter": "python",
   "pygments_lexer": "ipython3",
   "version": "3.9.8 (tags/v3.9.8:bb3fdcf, Nov  5 2021, 20:48:33) [MSC v.1929 64 bit (AMD64)]"
  },
  "orig_nbformat": 4,
  "vscode": {
   "interpreter": {
    "hash": "3e24519b0ba229a6f9a71f39c1cb5a8bdc9138e2d11e58c1de9e81a631b04fde"
   }
  }
 },
 "nbformat": 4,
 "nbformat_minor": 2
}
