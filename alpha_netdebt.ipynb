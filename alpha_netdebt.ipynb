{
 "cells": [
  {
   "cell_type": "code",
   "execution_count": 11,
   "metadata": {},
   "outputs": [],
   "source": [
    "import pandas as pd\n",
    "import numpy as np\n",
    "from data_master import DataMaster\n",
    "from utils import func\n",
    "from scipy.stats import norm\n",
    "master = DataMaster()"
   ]
  },
  {
   "cell_type": "code",
   "execution_count": 13,
   "metadata": {},
   "outputs": [],
   "source": [
    "universe = master.baskets.get_index_historical_components('GSPC')\n",
    "P = func.presence_matrix(universe).loc['2008':]"
   ]
  },
  {
   "cell_type": "code",
   "execution_count": 36,
   "metadata": {},
   "outputs": [],
   "source": [
    "market_data = pd.read_parquet('data/SP500/mkt_data.pq')\n",
    "balance_sheet = pd.read_parquet('data/SP500/balance_sheets.pq')\n",
    "GICS = pd.read_parquet('data/SP500/GICS.pq')\n",
    "\n",
    "R = market_data['close'].unstack().pct_change()"
   ]
  },
  {
   "cell_type": "code",
   "execution_count": 37,
   "metadata": {},
   "outputs": [
    {
     "name": "stderr",
     "output_type": "stream",
     "text": [
      "C:\\Users\\marti\\AppData\\Local\\Temp\\ipykernel_90940\\322947803.py:5: FutureWarning: Passing additional kwargs to Rolling.rank has no impact on the result and is deprecated. This will raise a TypeError in a future version of pandas.\n",
      "  netdebt = netdebt.rolling(10).rank(axis=0,pct=True,ascending=True).clip(0.01,0.99).apply(norm.ppf)\n"
     ]
    }
   ],
   "source": [
    "metrics = (-balance_sheet['netDebt'].astype(float)/balance_sheet['cash'].astype(float))\n",
    "netdebt = metrics.unstack().ffill()\n",
    "netdebt = netdebt.rank(1,pct=True,ascending=True).clip(0.01,0.99).apply(norm.ppf)\n",
    "netdebt.index = pd.to_datetime(netdebt.index)\n",
    "netdebt = netdebt.rolling(10).rank(axis=0,pct=True,ascending=True).clip(0.01,0.99).apply(norm.ppf)\n",
    "netdebt = netdebt.reindex_like(P).ffill()\n",
    "\n"
   ]
  },
  {
   "cell_type": "code",
   "execution_count": 38,
   "metadata": {},
   "outputs": [],
   "source": [
    "def center(x):\n",
    "    mean = x.mean(1)\n",
    "    x = x.sub(mean,0)\n",
    "    return x"
   ]
  },
  {
   "cell_type": "code",
   "execution_count": 39,
   "metadata": {},
   "outputs": [
    {
     "name": "stderr",
     "output_type": "stream",
     "text": [
      "C:\\Users\\marti\\AppData\\Local\\Temp\\ipykernel_90940\\514925842.py:6: FutureWarning: Not prepending group keys to the result index of transform-like apply. In the future, the group keys will be included in the index, regardless of whether the applied function returns a like-indexed object.\n",
      "To preserve the previous behavior, use\n",
      "\n",
      "\t>>> .groupby(..., group_keys=False)\n",
      "\n",
      "To adopt the future behavior and silence this warning, use \n",
      "\n",
      "\t>>> .groupby(..., group_keys=True)\n",
      "  SIGNAL = SIGNAL[P].groupby(GICS['gicgrp'],axis=1).apply(center)\n"
     ]
    }
   ],
   "source": [
    "\n",
    "thresh =0.1\n",
    "SIGNAL = netdebt.copy()\n",
    "SIGNAL = SIGNAL[P].rank(1,pct=True,ascending=True).clip(0.01,0.99).apply(norm.ppf)\n",
    "SIGNAL[SIGNAL.abs()<thresh] = None\n",
    "\n",
    "SIGNAL = SIGNAL[P].groupby(GICS['gicgrp'],axis=1).apply(center)\n",
    "# SIGNAL = SIGNAL.sub(SIGNAL.mean(1),0)\n",
    "SIGNAL= SIGNAL.div(SIGNAL.abs().sum(1),0)"
   ]
  },
  {
   "cell_type": "code",
   "execution_count": 43,
   "metadata": {},
   "outputs": [
    {
     "data": {
      "text/html": [
       "<div>\n",
       "<style scoped>\n",
       "    .dataframe tbody tr th:only-of-type {\n",
       "        vertical-align: middle;\n",
       "    }\n",
       "\n",
       "    .dataframe tbody tr th {\n",
       "        vertical-align: top;\n",
       "    }\n",
       "\n",
       "    .dataframe thead th {\n",
       "        text-align: right;\n",
       "    }\n",
       "</style>\n",
       "<table border=\"1\" class=\"dataframe\">\n",
       "  <thead>\n",
       "    <tr style=\"text-align: right;\">\n",
       "      <th></th>\n",
       "      <th></th>\n",
       "      <th>datetime</th>\n",
       "      <th>open</th>\n",
       "      <th>high</th>\n",
       "      <th>low</th>\n",
       "      <th>close</th>\n",
       "      <th>adj_close</th>\n",
       "      <th>volume</th>\n",
       "      <th>MktCap</th>\n",
       "    </tr>\n",
       "    <tr>\n",
       "      <th>Date</th>\n",
       "      <th>Ticker</th>\n",
       "      <th></th>\n",
       "      <th></th>\n",
       "      <th></th>\n",
       "      <th></th>\n",
       "      <th></th>\n",
       "      <th></th>\n",
       "      <th></th>\n",
       "      <th></th>\n",
       "    </tr>\n",
       "  </thead>\n",
       "  <tbody>\n",
       "    <tr>\n",
       "      <th>2008-01-02</th>\n",
       "      <th>HAS</th>\n",
       "      <td>2008-01-02</td>\n",
       "      <td>25.52</td>\n",
       "      <td>25.77</td>\n",
       "      <td>24.87</td>\n",
       "      <td>25.00</td>\n",
       "      <td>16.0221</td>\n",
       "      <td>1622100</td>\n",
       "      <td>NaN</td>\n",
       "    </tr>\n",
       "    <tr>\n",
       "      <th>2008-01-03</th>\n",
       "      <th>HAS</th>\n",
       "      <td>2008-01-03</td>\n",
       "      <td>25.02</td>\n",
       "      <td>25.22</td>\n",
       "      <td>24.65</td>\n",
       "      <td>24.68</td>\n",
       "      <td>15.8170</td>\n",
       "      <td>1156800</td>\n",
       "      <td>NaN</td>\n",
       "    </tr>\n",
       "    <tr>\n",
       "      <th>2008-01-04</th>\n",
       "      <th>HAS</th>\n",
       "      <td>2008-01-04</td>\n",
       "      <td>24.45</td>\n",
       "      <td>24.49</td>\n",
       "      <td>23.67</td>\n",
       "      <td>23.74</td>\n",
       "      <td>15.2145</td>\n",
       "      <td>3502600</td>\n",
       "      <td>NaN</td>\n",
       "    </tr>\n",
       "    <tr>\n",
       "      <th>2008-01-07</th>\n",
       "      <th>HAS</th>\n",
       "      <td>2008-01-07</td>\n",
       "      <td>23.93</td>\n",
       "      <td>23.96</td>\n",
       "      <td>23.40</td>\n",
       "      <td>23.67</td>\n",
       "      <td>15.1697</td>\n",
       "      <td>1518300</td>\n",
       "      <td>NaN</td>\n",
       "    </tr>\n",
       "    <tr>\n",
       "      <th>2008-01-08</th>\n",
       "      <th>HAS</th>\n",
       "      <td>2008-01-08</td>\n",
       "      <td>23.75</td>\n",
       "      <td>23.95</td>\n",
       "      <td>23.25</td>\n",
       "      <td>23.42</td>\n",
       "      <td>15.0095</td>\n",
       "      <td>3185600</td>\n",
       "      <td>NaN</td>\n",
       "    </tr>\n",
       "    <tr>\n",
       "      <th>...</th>\n",
       "      <th>...</th>\n",
       "      <td>...</td>\n",
       "      <td>...</td>\n",
       "      <td>...</td>\n",
       "      <td>...</td>\n",
       "      <td>...</td>\n",
       "      <td>...</td>\n",
       "      <td>...</td>\n",
       "      <td>...</td>\n",
       "    </tr>\n",
       "    <tr>\n",
       "      <th>2023-03-29</th>\n",
       "      <th>ES</th>\n",
       "      <td>2023-03-29</td>\n",
       "      <td>76.47</td>\n",
       "      <td>77.70</td>\n",
       "      <td>76.47</td>\n",
       "      <td>77.55</td>\n",
       "      <td>77.5500</td>\n",
       "      <td>1510200</td>\n",
       "      <td>NaN</td>\n",
       "    </tr>\n",
       "    <tr>\n",
       "      <th>2023-03-30</th>\n",
       "      <th>ES</th>\n",
       "      <td>2023-03-30</td>\n",
       "      <td>77.75</td>\n",
       "      <td>78.23</td>\n",
       "      <td>77.34</td>\n",
       "      <td>78.11</td>\n",
       "      <td>78.1100</td>\n",
       "      <td>1092200</td>\n",
       "      <td>NaN</td>\n",
       "    </tr>\n",
       "    <tr>\n",
       "      <th>2023-03-31</th>\n",
       "      <th>ES</th>\n",
       "      <td>2023-03-31</td>\n",
       "      <td>78.38</td>\n",
       "      <td>78.48</td>\n",
       "      <td>77.47</td>\n",
       "      <td>78.26</td>\n",
       "      <td>78.2600</td>\n",
       "      <td>1734900</td>\n",
       "      <td>NaN</td>\n",
       "    </tr>\n",
       "    <tr>\n",
       "      <th>2023-04-03</th>\n",
       "      <th>ES</th>\n",
       "      <td>2023-04-03</td>\n",
       "      <td>77.55</td>\n",
       "      <td>78.05</td>\n",
       "      <td>76.72</td>\n",
       "      <td>77.41</td>\n",
       "      <td>77.4100</td>\n",
       "      <td>1676000</td>\n",
       "      <td>2.629133e+12</td>\n",
       "    </tr>\n",
       "    <tr>\n",
       "      <th>2023-04-04</th>\n",
       "      <th>ES</th>\n",
       "      <td>2023-04-04</td>\n",
       "      <td>77.57</td>\n",
       "      <td>78.22</td>\n",
       "      <td>77.31</td>\n",
       "      <td>78.05</td>\n",
       "      <td>78.0500</td>\n",
       "      <td>998462</td>\n",
       "      <td>NaN</td>\n",
       "    </tr>\n",
       "  </tbody>\n",
       "</table>\n",
       "<p>11522 rows × 8 columns</p>\n",
       "</div>"
      ],
      "text/plain": [
       "                    datetime   open   high    low  close  adj_close   volume  \\\n",
       "Date       Ticker                                                              \n",
       "2008-01-02 HAS    2008-01-02  25.52  25.77  24.87  25.00    16.0221  1622100   \n",
       "2008-01-03 HAS    2008-01-03  25.02  25.22  24.65  24.68    15.8170  1156800   \n",
       "2008-01-04 HAS    2008-01-04  24.45  24.49  23.67  23.74    15.2145  3502600   \n",
       "2008-01-07 HAS    2008-01-07  23.93  23.96  23.40  23.67    15.1697  1518300   \n",
       "2008-01-08 HAS    2008-01-08  23.75  23.95  23.25  23.42    15.0095  3185600   \n",
       "...                      ...    ...    ...    ...    ...        ...      ...   \n",
       "2023-03-29 ES     2023-03-29  76.47  77.70  76.47  77.55    77.5500  1510200   \n",
       "2023-03-30 ES     2023-03-30  77.75  78.23  77.34  78.11    78.1100  1092200   \n",
       "2023-03-31 ES     2023-03-31  78.38  78.48  77.47  78.26    78.2600  1734900   \n",
       "2023-04-03 ES     2023-04-03  77.55  78.05  76.72  77.41    77.4100  1676000   \n",
       "2023-04-04 ES     2023-04-04  77.57  78.22  77.31  78.05    78.0500   998462   \n",
       "\n",
       "                         MktCap  \n",
       "Date       Ticker                \n",
       "2008-01-02 HAS              NaN  \n",
       "2008-01-03 HAS              NaN  \n",
       "2008-01-04 HAS              NaN  \n",
       "2008-01-07 HAS              NaN  \n",
       "2008-01-08 HAS              NaN  \n",
       "...                         ...  \n",
       "2023-03-29 ES               NaN  \n",
       "2023-03-30 ES               NaN  \n",
       "2023-03-31 ES               NaN  \n",
       "2023-04-03 ES      2.629133e+12  \n",
       "2023-04-04 ES               NaN  \n",
       "\n",
       "[11522 rows x 8 columns]"
      ]
     },
     "execution_count": 43,
     "metadata": {},
     "output_type": "execute_result"
    }
   ],
   "source": [
    "market_data"
   ]
  },
  {
   "cell_type": "code",
   "execution_count": 31,
   "metadata": {},
   "outputs": [
    {
     "name": "stdout",
     "output_type": "stream",
     "text": [
      "nan\n"
     ]
    },
    {
     "data": {
      "text/plain": [
       "<Axes: >"
      ]
     },
     "execution_count": 31,
     "metadata": {},
     "output_type": "execute_result"
    },
    {
     "data": {
      "image/png": "[encoded data removed]",
      "text/plain": [
       "<Figure size 432x288 with 1 Axes>"
      ]
     },
     "metadata": {
      "needs_background": "light"
     },
     "output_type": "display_data"
    }
   ],
   "source": [
    "pnl = (SIGNAL.shift(1) *R).sum(1).replace({0:np.nan}).dropna()\n",
    "sharpe = (pnl.mean(skipna=True)* np.sqrt(252)/ pnl.std(skipna=True))\n",
    "print(sharpe)\n",
    "pnl.cumsum().plot()"
   ]
  },
  {
   "cell_type": "markdown",
   "metadata": {},
   "source": [
    "SIGNAL LOW / CLOSE"
   ]
  },
  {
   "cell_type": "code",
   "execution_count": 195,
   "metadata": {},
   "outputs": [],
   "source": [
    "metrics = pd.DataFrame(market_data['low'].divide(market_data['close']),dtype=float)\n",
    "metrics.columns =['metrics']\n",
    "metrics= metrics['metrics'].unstack().diff(26)\n",
    "metrics = metrics[P].rank(1,pct=True,ascending=False).clip(0.01,0.99)\n",
    "# metrics = metrics.stack().groupby(level=1).rolling(10).rank(pct=True,ascending=True).clip(0.01,0.99).apply(norm.ppf).droplevel(0)\n",
    "\n",
    "# metrics = metrics.rolling(10).rank(axis=0,pct=True,asceneing=True)\n"
   ]
  },
  {
   "cell_type": "code",
   "execution_count": 196,
   "metadata": {},
   "outputs": [
    {
     "name": "stderr",
     "output_type": "stream",
     "text": [
      "C:\\Users\\marti\\AppData\\Local\\Temp\\ipykernel_28524\\702060786.py:6: FutureWarning: Not prepending group keys to the result index of transform-like apply. In the future, the group keys will be included in the index, regardless of whether the applied function returns a like-indexed object.\n",
      "To preserve the previous behavior, use\n",
      "\n",
      "\t>>> .groupby(..., group_keys=False)\n",
      "\n",
      "To adopt the future behavior and silence this warning, use \n",
      "\n",
      "\t>>> .groupby(..., group_keys=True)\n",
      "  SIGNAL = SIGNAL[P].groupby(GICS,axis=1).apply(center)\n"
     ]
    }
   ],
   "source": [
    "\n",
    "thresh =0.25\n",
    "SIGNAL = metrics.copy()\n",
    "SIGNAL = SIGNAL[P].rank(1,pct=True,ascending=True).clip(0.01,0.99).apply(norm.ppf)\n",
    "SIGNAL[SIGNAL.abs()<thresh] = None\n",
    "\n",
    "SIGNAL = SIGNAL[P].groupby(GICS,axis=1).apply(center)\n",
    "# SIGNAL = SIGNAL.sub(SIGNAL.mean(1),0)\n",
    "SIGNAL= SIGNAL.div(SIGNAL.abs().sum(1),0)"
   ]
  },
  {
   "cell_type": "code",
   "execution_count": 198,
   "metadata": {},
   "outputs": [
    {
     "name": "stdout",
     "output_type": "stream",
     "text": [
      "-1.162540367664539\n"
     ]
    },
    {
     "data": {
      "image/png": "[encoded data removed]",
      "text/plain": [
       "<Figure size 432x288 with 1 Axes>"
      ]
     },
     "metadata": {
      "needs_background": "light"
     },
     "output_type": "display_data"
    }
   ],
   "source": [
    "pnl = (SIGNAL.shift(1) *R).loc[:'2014'].sum(1).replace({0:np.nan}).dropna()\n",
    "sharpe = (pnl.mean(skipna=True)* np.sqrt(252)/ pnl.std(skipna=True))\n",
    "print(sharpe)\n",
    "pnl.cumsum().plot()\n",
    "plt.show()\n",
    "\n"
   ]
  },
  {
   "cell_type": "markdown",
   "metadata": {},
   "source": [
    "ALPHA 20"
   ]
  },
  {
   "cell_type": "code",
   "execution_count": 163,
   "metadata": {},
   "outputs": [],
   "source": [
    "from scipy.stats import skew"
   ]
  },
  {
   "cell_type": "code",
   "execution_count": 188,
   "metadata": {},
   "outputs": [
    {
     "name": "stderr",
     "output_type": "stream",
     "text": [
      "C:\\Users\\marti\\AppData\\Local\\Temp\\ipykernel_28524\\1598711166.py:2: FutureWarning: Passing additional kwargs to Rolling.skew has no impact on the result and is deprecated. This will raise a TypeError in a future version of pandas.\n",
      "  skew = returns.rolling(15).skew(axis=0)\n"
     ]
    }
   ],
   "source": [
    "returns = R.rolling(15).sum()\n",
    "skew = returns.rolling(15).skew(axis=0)"
   ]
  },
  {
   "cell_type": "code",
   "execution_count": 189,
   "metadata": {},
   "outputs": [],
   "source": [
    "alpha  = skew.diff(15)\n",
    "alpha = alpha.rank(1,pct=True,ascending=True).clip(0.01,0.99).apply(norm.ppf)"
   ]
  },
  {
   "cell_type": "code",
   "execution_count": 190,
   "metadata": {},
   "outputs": [
    {
     "name": "stderr",
     "output_type": "stream",
     "text": [
      "C:\\Users\\marti\\AppData\\Local\\Temp\\ipykernel_28524\\3200654778.py:6: FutureWarning: Not prepending group keys to the result index of transform-like apply. In the future, the group keys will be included in the index, regardless of whether the applied function returns a like-indexed object.\n",
      "To preserve the previous behavior, use\n",
      "\n",
      "\t>>> .groupby(..., group_keys=False)\n",
      "\n",
      "To adopt the future behavior and silence this warning, use \n",
      "\n",
      "\t>>> .groupby(..., group_keys=True)\n",
      "  SIGNAL = SIGNAL[P].groupby(GICS,axis=1).apply(center)\n"
     ]
    }
   ],
   "source": [
    "thresh =0.25\n",
    "SIGNAL = alpha.copy()\n",
    "SIGNAL = SIGNAL[P].rank(1,pct=True,ascending=True).clip(0.01,0.99).apply(norm.ppf)\n",
    "SIGNAL[SIGNAL.abs()<thresh] = None\n",
    "\n",
    "SIGNAL = SIGNAL[P].groupby(GICS,axis=1).apply(center)\n",
    "# SIGNAL = SIGNAL.sub(SIGNAL.mean(1),0)\n",
    "SIGNAL= SIGNAL.div(SIGNAL.abs().sum(1),0)"
   ]
  },
  {
   "cell_type": "code",
   "execution_count": 191,
   "metadata": {},
   "outputs": [
    {
     "name": "stdout",
     "output_type": "stream",
     "text": [
      "-0.04375543898406448\n"
     ]
    },
    {
     "data": {
      "image/png": "[encoded data removed]",
      "text/plain": [
       "<Figure size 432x288 with 1 Axes>"
      ]
     },
     "metadata": {
      "needs_background": "light"
     },
     "output_type": "display_data"
    }
   ],
   "source": [
    "pnl = (SIGNAL.shift(1) *R).sum(1).replace({0:np.nan}).dropna()\n",
    "sharpe = (pnl.mean(skipna=True)* np.sqrt(252)/ pnl.std(skipna=True))\n",
    "print(sharpe)\n",
    "pnl.cumsum().plot()\n",
    "plt.show()"
   ]
  },
  {
   "cell_type": "code",
   "execution_count": 199,
   "metadata": {},
   "outputs": [],
   "source": [
    "# ALPHA 28"
   ]
  },
  {
   "cell_type": "code",
   "execution_count": 268,
   "metadata": {},
   "outputs": [
    {
     "data": {
      "text/html": [
       "<div>\n",
       "<style scoped>\n",
       "    .dataframe tbody tr th:only-of-type {\n",
       "        vertical-align: middle;\n",
       "    }\n",
       "\n",
       "    .dataframe tbody tr th {\n",
       "        vertical-align: top;\n",
       "    }\n",
       "\n",
       "    .dataframe thead th {\n",
       "        text-align: right;\n",
       "    }\n",
       "</style>\n",
       "<table border=\"1\" class=\"dataframe\">\n",
       "  <thead>\n",
       "    <tr style=\"text-align: right;\">\n",
       "      <th></th>\n",
       "      <th></th>\n",
       "      <th>UPS</th>\n",
       "      <th>DOWNS</th>\n",
       "    </tr>\n",
       "    <tr>\n",
       "      <th>datetime</th>\n",
       "      <th>Ticker</th>\n",
       "      <th></th>\n",
       "      <th></th>\n",
       "    </tr>\n",
       "  </thead>\n",
       "  <tbody>\n",
       "    <tr>\n",
       "      <th rowspan=\"5\" valign=\"top\">2005-01-05</th>\n",
       "      <th>AAP</th>\n",
       "      <td>0.001849</td>\n",
       "      <td>0.006659</td>\n",
       "    </tr>\n",
       "    <tr>\n",
       "      <th>ABK</th>\n",
       "      <td>0.009963</td>\n",
       "      <td>0.013230</td>\n",
       "    </tr>\n",
       "    <tr>\n",
       "      <th>ABS</th>\n",
       "      <td>0.001290</td>\n",
       "      <td>0.021053</td>\n",
       "    </tr>\n",
       "    <tr>\n",
       "      <th>ACAS</th>\n",
       "      <td>0.014041</td>\n",
       "      <td>0.027609</td>\n",
       "    </tr>\n",
       "    <tr>\n",
       "      <th>ADI</th>\n",
       "      <td>0.004520</td>\n",
       "      <td>0.027205</td>\n",
       "    </tr>\n",
       "    <tr>\n",
       "      <th>...</th>\n",
       "      <th>...</th>\n",
       "      <td>...</td>\n",
       "      <td>...</td>\n",
       "    </tr>\n",
       "    <tr>\n",
       "      <th rowspan=\"5\" valign=\"top\">2023-03-10</th>\n",
       "      <th>XRAY</th>\n",
       "      <td>0.013681</td>\n",
       "      <td>0.015219</td>\n",
       "    </tr>\n",
       "    <tr>\n",
       "      <th>ZBH</th>\n",
       "      <td>0.006627</td>\n",
       "      <td>0.011514</td>\n",
       "    </tr>\n",
       "    <tr>\n",
       "      <th>ZBRA</th>\n",
       "      <td>0.016250</td>\n",
       "      <td>0.021539</td>\n",
       "    </tr>\n",
       "    <tr>\n",
       "      <th>ZION</th>\n",
       "      <td>0.005168</td>\n",
       "      <td>0.048879</td>\n",
       "    </tr>\n",
       "    <tr>\n",
       "      <th>ZTS</th>\n",
       "      <td>0.009639</td>\n",
       "      <td>0.015795</td>\n",
       "    </tr>\n",
       "  </tbody>\n",
       "</table>\n",
       "<p>3060184 rows × 2 columns</p>\n",
       "</div>"
      ],
      "text/plain": [
       "                        UPS     DOWNS\n",
       "datetime   Ticker                    \n",
       "2005-01-05 AAP     0.001849  0.006659\n",
       "           ABK     0.009963  0.013230\n",
       "           ABS     0.001290  0.021053\n",
       "           ACAS    0.014041  0.027609\n",
       "           ADI     0.004520  0.027205\n",
       "...                     ...       ...\n",
       "2023-03-10 XRAY    0.013681  0.015219\n",
       "           ZBH     0.006627  0.011514\n",
       "           ZBRA    0.016250  0.021539\n",
       "           ZION    0.005168  0.048879\n",
       "           ZTS     0.009639  0.015795\n",
       "\n",
       "[3060184 rows x 2 columns]"
      ]
     },
     "execution_count": 268,
     "metadata": {},
     "output_type": "execute_result"
    }
   ],
   "source": [
    "# RSI\n",
    "ups = pd.DataFrame(R[R>0].rolling(5,min_periods=1).mean().stack(),columns =['UPS'])\n",
    "downs = pd.DataFrame(R[R<0].rolling(5,min_periods=1).mean().abs().stack(),columns =['DOWNS'])\n",
    "RS = ups.join(downs)\n",
    "RS.dropna()"
   ]
  },
  {
   "cell_type": "code",
   "execution_count": 269,
   "metadata": {},
   "outputs": [],
   "source": [
    "RS['ALPHA'] = RS['UPS'].divide(RS['DOWNS'],0)"
   ]
  },
  {
   "cell_type": "code",
   "execution_count": 270,
   "metadata": {},
   "outputs": [
    {
     "data": {
      "text/html": [
       "<div>\n",
       "<style scoped>\n",
       "    .dataframe tbody tr th:only-of-type {\n",
       "        vertical-align: middle;\n",
       "    }\n",
       "\n",
       "    .dataframe tbody tr th {\n",
       "        vertical-align: top;\n",
       "    }\n",
       "\n",
       "    .dataframe thead th {\n",
       "        text-align: right;\n",
       "    }\n",
       "</style>\n",
       "<table border=\"1\" class=\"dataframe\">\n",
       "  <thead>\n",
       "    <tr style=\"text-align: right;\">\n",
       "      <th></th>\n",
       "      <th></th>\n",
       "      <th>ALPHA</th>\n",
       "    </tr>\n",
       "    <tr>\n",
       "      <th>datetime</th>\n",
       "      <th>Ticker</th>\n",
       "      <th></th>\n",
       "    </tr>\n",
       "  </thead>\n",
       "  <tbody>\n",
       "    <tr>\n",
       "      <th rowspan=\"5\" valign=\"top\">2005-01-04</th>\n",
       "      <th>AAPL</th>\n",
       "      <td>NaN</td>\n",
       "    </tr>\n",
       "    <tr>\n",
       "      <th>AIG</th>\n",
       "      <td>NaN</td>\n",
       "    </tr>\n",
       "    <tr>\n",
       "      <th>AN</th>\n",
       "      <td>NaN</td>\n",
       "    </tr>\n",
       "    <tr>\n",
       "      <th>ANF</th>\n",
       "      <td>NaN</td>\n",
       "    </tr>\n",
       "    <tr>\n",
       "      <th>ANSS</th>\n",
       "      <td>NaN</td>\n",
       "    </tr>\n",
       "    <tr>\n",
       "      <th>...</th>\n",
       "      <th>...</th>\n",
       "      <td>...</td>\n",
       "    </tr>\n",
       "    <tr>\n",
       "      <th rowspan=\"5\" valign=\"top\">2023-03-10</th>\n",
       "      <th>XRAY</th>\n",
       "      <td>47.339069</td>\n",
       "    </tr>\n",
       "    <tr>\n",
       "      <th>ZBH</th>\n",
       "      <td>36.530519</td>\n",
       "    </tr>\n",
       "    <tr>\n",
       "      <th>ZBRA</th>\n",
       "      <td>43.001886</td>\n",
       "    </tr>\n",
       "    <tr>\n",
       "      <th>ZION</th>\n",
       "      <td>9.562059</td>\n",
       "    </tr>\n",
       "    <tr>\n",
       "      <th>ZTS</th>\n",
       "      <td>37.897612</td>\n",
       "    </tr>\n",
       "  </tbody>\n",
       "</table>\n",
       "<p>3194160 rows × 1 columns</p>\n",
       "</div>"
      ],
      "text/plain": [
       "                       ALPHA\n",
       "datetime   Ticker           \n",
       "2005-01-04 AAPL          NaN\n",
       "           AIG           NaN\n",
       "           AN            NaN\n",
       "           ANF           NaN\n",
       "           ANSS          NaN\n",
       "...                      ...\n",
       "2023-03-10 XRAY    47.339069\n",
       "           ZBH     36.530519\n",
       "           ZBRA    43.001886\n",
       "           ZION     9.562059\n",
       "           ZTS     37.897612\n",
       "\n",
       "[3194160 rows x 1 columns]"
      ]
     },
     "execution_count": 270,
     "metadata": {},
     "output_type": "execute_result"
    }
   ],
   "source": [
    "RSI = 100 - (100/(1+RS['ALPHA']))\n",
    "RSI = pd.DataFrame(RSI,dtype=float)\n",
    "RSI"
   ]
  },
  {
   "cell_type": "code",
   "execution_count": 271,
   "metadata": {},
   "outputs": [
    {
     "name": "stderr",
     "output_type": "stream",
     "text": [
      "C:\\Users\\marti\\AppData\\Local\\Temp\\ipykernel_28524\\4070706341.py:2: FutureWarning: Passing additional kwargs to Rolling.rank has no impact on the result and is deprecated. This will raise a TypeError in a future version of pandas.\n",
      "  ALPHA = ALPHA.rolling(5,min_periods=1).rank(axis=0,pct=True,ascending=False)\n"
     ]
    }
   ],
   "source": [
    "ALPHA = RSI['ALPHA'].unstack()[P].rank(1,pct=True,ascending=True).clip(0.01,0.99).apply(norm.ppf)\n",
    "ALPHA = ALPHA.rolling(5,min_periods=1).rank(axis=0,pct=True,ascending=False)"
   ]
  },
  {
   "cell_type": "code",
   "execution_count": 272,
   "metadata": {},
   "outputs": [
    {
     "name": "stderr",
     "output_type": "stream",
     "text": [
      "C:\\Users\\marti\\AppData\\Local\\Temp\\ipykernel_28524\\1384291576.py:7: FutureWarning: Not prepending group keys to the result index of transform-like apply. In the future, the group keys will be included in the index, regardless of whether the applied function returns a like-indexed object.\n",
      "To preserve the previous behavior, use\n",
      "\n",
      "\t>>> .groupby(..., group_keys=False)\n",
      "\n",
      "To adopt the future behavior and silence this warning, use \n",
      "\n",
      "\t>>> .groupby(..., group_keys=True)\n",
      "  SIGNAL = SIGNAL[P].groupby(GICS,axis=1).apply(center)\n"
     ]
    }
   ],
   "source": [
    "\n",
    "thresh =0.5\n",
    "\n",
    "SIGNAL = ALPHA.copy()\n",
    "SIGNAL = SIGNAL[P].rank(1,pct=True,ascending=True).clip(0.01,0.99).apply(norm.ppf)\n",
    "SIGNAL[SIGNAL.abs()<thresh] = None\n",
    "\n",
    "SIGNAL = SIGNAL[P].groupby(GICS,axis=1).apply(center)\n",
    "# SIGNAL = SIGNAL.sub(SIGNAL.mean(1),0)\n",
    "SIGNAL= SIGNAL.div(SIGNAL.abs().sum(1),0)"
   ]
  },
  {
   "cell_type": "code",
   "execution_count": 273,
   "metadata": {},
   "outputs": [
    {
     "name": "stdout",
     "output_type": "stream",
     "text": [
      "0.5088427287919342\n"
     ]
    },
    {
     "data": {
      "image/png": "[encoded data removed]",
      "text/plain": [
       "<Figure size 432x288 with 1 Axes>"
      ]
     },
     "metadata": {
      "needs_background": "light"
     },
     "output_type": "display_data"
    }
   ],
   "source": [
    "pnl = (SIGNAL.shift(1) *R).sum(1).replace({0:np.nan}).dropna()\n",
    "sharpe = (pnl.mean(skipna=True)* np.sqrt(252)/ pnl.std(skipna=True))\n",
    "print(sharpe)\n",
    "pnl.cumsum().plot()\n",
    "plt.show()"
   ]
  },
  {
   "cell_type": "code",
   "execution_count": null,
   "metadata": {},
   "outputs": [],
   "source": []
  }
 ],
 "metadata": {
  "kernelspec": {
   "display_name": "Python 3",
   "language": "python",
   "name": "python3"
  },
  "language_info": {
   "codemirror_mode": {
    "name": "ipython",
    "version": 3
   },
   "file_extension": ".py",
   "mimetype": "text/x-python",
   "name": "python",
   "nbconvert_exporter": "python",
   "pygments_lexer": "ipython3",
   "version": "3.9.8"
  },
  "orig_nbformat": 4,
  "vscode": {
   "interpreter": {
    "hash": "3e24519b0ba229a6f9a71f39c1cb5a8bdc9138e2d11e58c1de9e81a631b04fde"
   }
  }
 },
 "nbformat": 4,
 "nbformat_minor": 2
}
