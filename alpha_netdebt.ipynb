{
 "cells": [
  {
   "cell_type": "code",
   "execution_count": 1,
   "metadata": {},
   "outputs": [],
   "source": [
    "import pandas as pd\n",
    "import numpy as np\n",
    "from data_master import DataMaster\n",
    "from utils import func\n",
    "from scipy.stats import norm\n",
    "master = DataMaster()\n",
    "from quantstats.stats import sharpe\n",
    "from utils.func import center"
   ]
  },
  {
   "cell_type": "code",
   "execution_count": 2,
   "metadata": {},
   "outputs": [],
   "source": [
    "universe = master.baskets.get_index_historical_components('GSPC')\n",
    "P = func.presence_matrix(universe).loc['2008':]"
   ]
  },
  {
   "cell_type": "code",
   "execution_count": 3,
   "metadata": {},
   "outputs": [],
   "source": [
    "market_data = pd.read_parquet('data/US/mkt_data.pq')\n",
    "balance_sheet = pd.read_parquet('data/US/balance_sheets.pq')\n",
    "GICS = pd.read_parquet('data/US/GICS.pq')\n",
    "# P = pd.read_parquet('data/US/universe_table.pq')\n",
    "income_statement = pd.read_parquet('data/US/income_statement.pq')\n",
    "R = market_data['close'].unstack().reindex_like(P).pct_change()"
   ]
  },
  {
   "cell_type": "code",
   "execution_count": 4,
   "metadata": {},
   "outputs": [
    {
     "name": "stderr",
     "output_type": "stream",
     "text": [
      "C:\\Users\\marti\\AppData\\Local\\Temp\\ipykernel_23108\\322947803.py:5: FutureWarning: Passing additional kwargs to Rolling.rank has no impact on the result and is deprecated. This will raise a TypeError in a future version of pandas.\n",
      "  netdebt = netdebt.rolling(10).rank(axis=0,pct=True,ascending=True).clip(0.01,0.99).apply(norm.ppf)\n"
     ]
    }
   ],
   "source": [
    "metrics = (-balance_sheet['netDebt'].astype(float)/balance_sheet['cash'].astype(float))\n",
    "netdebt = metrics.unstack().ffill()\n",
    "netdebt = netdebt.rank(1,pct=True,ascending=True).clip(0.01,0.99).apply(norm.ppf)\n",
    "netdebt.index = pd.to_datetime(netdebt.index)\n",
    "netdebt = netdebt.rolling(10).rank(axis=0,pct=True,ascending=True).clip(0.01,0.99).apply(norm.ppf)\n",
    "netdebt = netdebt.reindex_like(P).ffill()\n",
    "\n"
   ]
  },
  {
   "cell_type": "code",
   "execution_count": 5,
   "metadata": {},
   "outputs": [
    {
     "name": "stderr",
     "output_type": "stream",
     "text": [
      "C:\\Users\\marti\\AppData\\Local\\Temp\\ipykernel_23108\\4222979186.py:5: FutureWarning: Not prepending group keys to the result index of transform-like apply. In the future, the group keys will be included in the index, regardless of whether the applied function returns a like-indexed object.\n",
      "To preserve the previous behavior, use\n",
      "\n",
      "\t>>> .groupby(..., group_keys=False)\n",
      "\n",
      "To adopt the future behavior and silence this warning, use \n",
      "\n",
      "\t>>> .groupby(..., group_keys=True)\n",
      "  SIGNAL = SIGNAL[P].groupby(GICS['gicgrp'],axis=1).apply(center)\n"
     ]
    },
    {
     "data": {
      "text/plain": [
       "Sharpe      1.3\n",
       "Turnover    0.0\n",
       "biais       1.0\n",
       "dtype: float64"
      ]
     },
     "execution_count": 5,
     "metadata": {},
     "output_type": "execute_result"
    },
    {
     "data": {
      "image/png": "[encoded data removed]",
      "text/plain": [
       "<Figure size 432x288 with 1 Axes>"
      ]
     },
     "metadata": {
      "needs_background": "light"
     },
     "output_type": "display_data"
    }
   ],
   "source": [
    "SIGNAL = netdebt.copy()\n",
    "SIGNAL = SIGNAL[P].rank(1,pct=True,ascending=True).clip(0.01,0.99).apply(norm.ppf)\n",
    "SIGNAL[SIGNAL.abs()<0.1] = None\n",
    "\n",
    "SIGNAL = SIGNAL[P].groupby(GICS['gicgrp'],axis=1).apply(center)\n",
    "SIGNAL= SIGNAL.div(SIGNAL.abs().sum(1),0)\n",
    "\n",
    "pnl_net_debt = (SIGNAL.shift(1) *R).sum(1).replace({0:np.nan}).dropna()\n",
    "sr = sharpe(pnl_net_debt)\n",
    "turnover = SIGNAL.fillna(0).diff().abs().sum(1).mean()\n",
    "pnl_net_debt.cumsum().plot()\n",
    "pd.Series({'Sharpe':sr,'Turnover':turnover,'biais':pnl_net_debt.mean()*1e4}).round(1)"
   ]
  },
  {
   "cell_type": "code",
   "execution_count": null,
   "metadata": {},
   "outputs": [],
   "source": []
  }
 ],
 "metadata": {
  "kernelspec": {
   "display_name": "Python 3",
   "language": "python",
   "name": "python3"
  },
  "language_info": {
   "codemirror_mode": {
    "name": "ipython",
    "version": 3
   },
   "file_extension": ".py",
   "mimetype": "text/x-python",
   "name": "python",
   "nbconvert_exporter": "python",
   "pygments_lexer": "ipython3",
   "version": "3.9.8"
  },
  "orig_nbformat": 4,
  "vscode": {
   "interpreter": {
    "hash": "3e24519b0ba229a6f9a71f39c1cb5a8bdc9138e2d11e58c1de9e81a631b04fde"
   }
  }
 },
 "nbformat": 4,
 "nbformat_minor": 2
}
