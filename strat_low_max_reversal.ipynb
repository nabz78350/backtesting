{
 "cells": [
  {
   "cell_type": "code",
   "execution_count": 1,
   "metadata": {},
   "outputs": [],
   "source": [
    "import pandas as pd\n",
    "import numpy as np\n",
    "from data_master import DataMaster\n",
    "from utils import func\n",
    "from scipy.stats import norm\n",
    "master = DataMaster()\n",
    "from utils.func import center\n",
    "from quantstats.stats import sharpe\n",
    "import matplotlib.pyplot as plt"
   ]
  },
  {
   "cell_type": "code",
   "execution_count": 62,
   "metadata": {},
   "outputs": [
    {
     "data": {
      "text/html": [
       "<div>\n",
       "<style scoped>\n",
       "    .dataframe tbody tr th:only-of-type {\n",
       "        vertical-align: middle;\n",
       "    }\n",
       "\n",
       "    .dataframe tbody tr th {\n",
       "        vertical-align: top;\n",
       "    }\n",
       "\n",
       "    .dataframe thead th {\n",
       "        text-align: right;\n",
       "    }\n",
       "</style>\n",
       "<table border=\"1\" class=\"dataframe\">\n",
       "  <thead>\n",
       "    <tr style=\"text-align: right;\">\n",
       "      <th></th>\n",
       "      <th></th>\n",
       "      <th>datetime</th>\n",
       "      <th>open</th>\n",
       "      <th>high</th>\n",
       "      <th>low</th>\n",
       "      <th>close</th>\n",
       "      <th>adj_close</th>\n",
       "      <th>volume</th>\n",
       "      <th>MktCap</th>\n",
       "    </tr>\n",
       "    <tr>\n",
       "      <th>Date</th>\n",
       "      <th>Ticker</th>\n",
       "      <th></th>\n",
       "      <th></th>\n",
       "      <th></th>\n",
       "      <th></th>\n",
       "      <th></th>\n",
       "      <th></th>\n",
       "      <th></th>\n",
       "      <th></th>\n",
       "    </tr>\n",
       "  </thead>\n",
       "  <tbody>\n",
       "    <tr>\n",
       "      <th>2008-01-02</th>\n",
       "      <th>A</th>\n",
       "      <td>2008-01-02</td>\n",
       "      <td>36.6587</td>\n",
       "      <td>36.7886</td>\n",
       "      <td>36.1089</td>\n",
       "      <td>36.2888</td>\n",
       "      <td>23.4977</td>\n",
       "      <td>1858900</td>\n",
       "      <td>NaN</td>\n",
       "    </tr>\n",
       "    <tr>\n",
       "      <th>2008-01-03</th>\n",
       "      <th>A</th>\n",
       "      <td>2008-01-03</td>\n",
       "      <td>36.2888</td>\n",
       "      <td>36.3388</td>\n",
       "      <td>35.8589</td>\n",
       "      <td>35.9289</td>\n",
       "      <td>23.2647</td>\n",
       "      <td>1995302</td>\n",
       "      <td>NaN</td>\n",
       "    </tr>\n",
       "    <tr>\n",
       "      <th>2008-01-04</th>\n",
       "      <th>A</th>\n",
       "      <td>2008-01-04</td>\n",
       "      <td>35.5690</td>\n",
       "      <td>35.8389</td>\n",
       "      <td>34.7093</td>\n",
       "      <td>34.7593</td>\n",
       "      <td>22.5073</td>\n",
       "      <td>3533080</td>\n",
       "      <td>NaN</td>\n",
       "    </tr>\n",
       "    <tr>\n",
       "      <th>2008-01-07</th>\n",
       "      <th>A</th>\n",
       "      <td>2008-01-07</td>\n",
       "      <td>35.3291</td>\n",
       "      <td>35.8689</td>\n",
       "      <td>35.0392</td>\n",
       "      <td>35.3291</td>\n",
       "      <td>22.8763</td>\n",
       "      <td>3505732</td>\n",
       "      <td>NaN</td>\n",
       "    </tr>\n",
       "    <tr>\n",
       "      <th>2008-01-08</th>\n",
       "      <th>A</th>\n",
       "      <td>2008-01-08</td>\n",
       "      <td>35.3491</td>\n",
       "      <td>35.7390</td>\n",
       "      <td>35.1392</td>\n",
       "      <td>35.2791</td>\n",
       "      <td>22.8439</td>\n",
       "      <td>4063445</td>\n",
       "      <td>NaN</td>\n",
       "    </tr>\n",
       "  </tbody>\n",
       "</table>\n",
       "</div>"
      ],
      "text/plain": [
       "                    datetime     open     high      low    close  adj_close   \n",
       "Date       Ticker                                                             \n",
       "2008-01-02 A      2008-01-02  36.6587  36.7886  36.1089  36.2888    23.4977  \\\n",
       "2008-01-03 A      2008-01-03  36.2888  36.3388  35.8589  35.9289    23.2647   \n",
       "2008-01-04 A      2008-01-04  35.5690  35.8389  34.7093  34.7593    22.5073   \n",
       "2008-01-07 A      2008-01-07  35.3291  35.8689  35.0392  35.3291    22.8763   \n",
       "2008-01-08 A      2008-01-08  35.3491  35.7390  35.1392  35.2791    22.8439   \n",
       "\n",
       "                    volume  MktCap  \n",
       "Date       Ticker                   \n",
       "2008-01-02 A       1858900     NaN  \n",
       "2008-01-03 A       1995302     NaN  \n",
       "2008-01-04 A       3533080     NaN  \n",
       "2008-01-07 A       3505732     NaN  \n",
       "2008-01-08 A       4063445     NaN  "
      ]
     },
     "execution_count": 62,
     "metadata": {},
     "output_type": "execute_result"
    }
   ],
   "source": [
    "market_data = pd.read_parquet('data/US/mkt_data.pq')\n",
    "balance_sheet = pd.read_parquet('data/US/balance_sheets.pq')\n",
    "GICS = pd.read_parquet('data/US/GICS.pq')\n",
    "P = pd.read_parquet('data/US/universe_table.pq')\n",
    "R = market_data['close'].unstack().reindex_like(P).pct_change()\n",
    "R = R[P].sub(R[P].mean(1),0)\n",
    "market_data.head()"
   ]
  },
  {
   "cell_type": "code",
   "execution_count": 63,
   "metadata": {},
   "outputs": [],
   "source": [
    "volume = market_data['volume'].unstack().ffill(limit=5)\n",
    "close = market_data['close'].unstack()\n",
    "open = market_data['open'].unstack()\n",
    "low = market_data['low'].unstack()\n",
    "high = market_data['high'].unstack()\n",
    "mean_price = (close+ open + low).fillna(0) / 3\n"
   ]
  },
  {
   "cell_type": "code",
   "execution_count": 84,
   "metadata": {},
   "outputs": [],
   "source": [
    "close_low = (close - low).div(close,0)\n",
    "high_close = (high - close).div(close,0) \n",
    "high_low = (high - low).div(close,0) \n",
    "diff_1 = close_low - high_close\n",
    "div_1 = diff_1.div(high_low,0)\n",
    "mult_1 = volume.mul(div_1,0)\n",
    "z_score = mult_1.rolling(5).mean()\n",
    "z_score = z_score.reindex_like(P).ffill()"
   ]
  },
  {
   "cell_type": "code",
   "execution_count": 94,
   "metadata": {},
   "outputs": [
    {
     "data": {
      "text/plain": [
       "Sharpe                     1.7\n",
       "Daily Turnover (%)        69.9\n",
       "biais (bp)                 2.8\n",
       "Sharpe since 2022          0.7\n",
       "biais  since 2022 (bp)     1.1\n",
       "dtype: float64"
      ]
     },
     "execution_count": 94,
     "metadata": {},
     "output_type": "execute_result"
    },
    {
     "data": {
      "image/png": "[encoded data removed]",
      "text/plain": [
       "<Figure size 1000x600 with 1 Axes>"
      ]
     },
     "metadata": {},
     "output_type": "display_data"
    }
   ],
   "source": [
    "signal = z_score[P].rank(axis=1,pct=True,ascending=False).clip(0.01,0.99).apply(norm.ppf)\n",
    "signal[signal.abs()<0.5] = None\n",
    "\n",
    "signal = signal[P].groupby(GICS['gicind'],axis=1).apply(center)\n",
    "signal = signal[P].div(signal[P].abs().sum(1),0)\n",
    "\n",
    "PNL = (signal[P].shift()*R[P]).sum(1)\n",
    "sr = sharpe(PNL)\n",
    "turnover = signal.fillna(0).diff().abs().sum(1).mean()\n",
    "PNL.cumsum().plot()\n",
    "pd.Series({'Sharpe':sr,\n",
    "           'Daily Turnover (%)':turnover *100,\n",
    "           'biais (bp)':PNL.mean()*1e4,\n",
    "           'Sharpe since 2022' : sharpe(PNL.loc['2022':]),\n",
    "           'biais  since 2022 (bp)':PNL.loc['2022':].mean()*1e4}).round(1)"
   ]
  }
 ],
 "metadata": {
  "kernelspec": {
   "display_name": "Python 3",
   "language": "python",
   "name": "python3"
  },
  "language_info": {
   "codemirror_mode": {
    "name": "ipython",
    "version": 3
   },
   "file_extension": ".py",
   "mimetype": "text/x-python",
   "name": "python",
   "nbconvert_exporter": "python",
   "pygments_lexer": "ipython3",
   "version": "3.11.0 (main, Oct 24 2022, 18:26:48) [MSC v.1933 64 bit (AMD64)]"
  },
  "orig_nbformat": 4,
  "vscode": {
   "interpreter": {
    "hash": "08f57244d2f3420109eb4a4246849699d07d1b1540cb0230b33c3c9bc0f89fba"
   }
  }
 },
 "nbformat": 4,
 "nbformat_minor": 2
}
