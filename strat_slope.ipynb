{
 "cells": [
  {
   "cell_type": "code",
   "execution_count": 1,
   "metadata": {},
   "outputs": [],
   "source": [
    "import pandas as pd\n",
    "import numpy as np\n",
    "from data_master import DataMaster\n",
    "from utils import func\n",
    "from scipy.stats import norm\n",
    "master = DataMaster()\n",
    "from utils.func import center\n",
    "from quantstats.stats import sharpe\n",
    "import matplotlib.pyplot as plt\n",
    "from tqdm import tqdm"
   ]
  },
  {
   "cell_type": "code",
   "execution_count": 2,
   "metadata": {},
   "outputs": [
    {
     "data": {
      "text/html": [
       "<div>\n",
       "<style scoped>\n",
       "    .dataframe tbody tr th:only-of-type {\n",
       "        vertical-align: middle;\n",
       "    }\n",
       "\n",
       "    .dataframe tbody tr th {\n",
       "        vertical-align: top;\n",
       "    }\n",
       "\n",
       "    .dataframe thead th {\n",
       "        text-align: right;\n",
       "    }\n",
       "</style>\n",
       "<table border=\"1\" class=\"dataframe\">\n",
       "  <thead>\n",
       "    <tr style=\"text-align: right;\">\n",
       "      <th></th>\n",
       "      <th></th>\n",
       "      <th>datetime</th>\n",
       "      <th>open</th>\n",
       "      <th>high</th>\n",
       "      <th>low</th>\n",
       "      <th>close</th>\n",
       "      <th>adj_close</th>\n",
       "      <th>volume</th>\n",
       "      <th>MktCap</th>\n",
       "    </tr>\n",
       "    <tr>\n",
       "      <th>Date</th>\n",
       "      <th>Ticker</th>\n",
       "      <th></th>\n",
       "      <th></th>\n",
       "      <th></th>\n",
       "      <th></th>\n",
       "      <th></th>\n",
       "      <th></th>\n",
       "      <th></th>\n",
       "      <th></th>\n",
       "    </tr>\n",
       "  </thead>\n",
       "  <tbody>\n",
       "    <tr>\n",
       "      <th>2018-04-27</th>\n",
       "      <th>ECL</th>\n",
       "      <td>2018-04-27</td>\n",
       "      <td>145.93</td>\n",
       "      <td>147.0900</td>\n",
       "      <td>144.65</td>\n",
       "      <td>146.71</td>\n",
       "      <td>139.0675</td>\n",
       "      <td>1196853</td>\n",
       "      <td>4.299154e+10</td>\n",
       "    </tr>\n",
       "    <tr>\n",
       "      <th>2015-05-01</th>\n",
       "      <th>ZBRA</th>\n",
       "      <td>2015-05-01</td>\n",
       "      <td>91.66</td>\n",
       "      <td>93.1076</td>\n",
       "      <td>91.26</td>\n",
       "      <td>92.50</td>\n",
       "      <td>92.5000</td>\n",
       "      <td>359077</td>\n",
       "      <td>4.665417e+09</td>\n",
       "    </tr>\n",
       "    <tr>\n",
       "      <th>2009-10-13</th>\n",
       "      <th>TSS</th>\n",
       "      <td>2009-10-13</td>\n",
       "      <td>16.31</td>\n",
       "      <td>16.4400</td>\n",
       "      <td>16.19</td>\n",
       "      <td>16.40</td>\n",
       "      <td>16.4000</td>\n",
       "      <td>960900</td>\n",
       "      <td>3.194800e+09</td>\n",
       "    </tr>\n",
       "    <tr>\n",
       "      <th>2015-12-31</th>\n",
       "      <th>CZR</th>\n",
       "      <td>2015-12-31</td>\n",
       "      <td>11.06</td>\n",
       "      <td>11.2000</td>\n",
       "      <td>10.78</td>\n",
       "      <td>11.00</td>\n",
       "      <td>11.0000</td>\n",
       "      <td>332738</td>\n",
       "      <td>5.190758e+08</td>\n",
       "    </tr>\n",
       "    <tr>\n",
       "      <th>2018-08-28</th>\n",
       "      <th>TJX</th>\n",
       "      <td>2018-08-28</td>\n",
       "      <td>107.60</td>\n",
       "      <td>107.7800</td>\n",
       "      <td>106.55</td>\n",
       "      <td>107.61</td>\n",
       "      <td>50.6633</td>\n",
       "      <td>4490312</td>\n",
       "      <td>1.360358e+11</td>\n",
       "    </tr>\n",
       "  </tbody>\n",
       "</table>\n",
       "</div>"
      ],
      "text/plain": [
       "                    datetime    open      high     low   close  adj_close  \\\n",
       "Date       Ticker                                                           \n",
       "2018-04-27 ECL    2018-04-27  145.93  147.0900  144.65  146.71   139.0675   \n",
       "2015-05-01 ZBRA   2015-05-01   91.66   93.1076   91.26   92.50    92.5000   \n",
       "2009-10-13 TSS    2009-10-13   16.31   16.4400   16.19   16.40    16.4000   \n",
       "2015-12-31 CZR    2015-12-31   11.06   11.2000   10.78   11.00    11.0000   \n",
       "2018-08-28 TJX    2018-08-28  107.60  107.7800  106.55  107.61    50.6633   \n",
       "\n",
       "                    volume        MktCap  \n",
       "Date       Ticker                         \n",
       "2018-04-27 ECL     1196853  4.299154e+10  \n",
       "2015-05-01 ZBRA     359077  4.665417e+09  \n",
       "2009-10-13 TSS      960900  3.194800e+09  \n",
       "2015-12-31 CZR      332738  5.190758e+08  \n",
       "2018-08-28 TJX     4490312  1.360358e+11  "
      ]
     },
     "execution_count": 2,
     "metadata": {},
     "output_type": "execute_result"
    }
   ],
   "source": [
    "market_data = pd.read_parquet('data/US/mkt_data.pq')\n",
    "balance_sheet = pd.read_parquet('data/US/balance_sheets.pq')\n",
    "GICS = pd.read_parquet('data/US/GICS.pq')\n",
    "P = pd.read_parquet('data/US/universe_table.pq')\n",
    "R = market_data['close'].unstack().reindex_like(P).pct_change()\n",
    "market_data.dropna().sample(5)"
   ]
  },
  {
   "cell_type": "code",
   "execution_count": 8,
   "metadata": {},
   "outputs": [
    {
     "data": {
      "text/plain": [
       "Date\n",
       "2013-02-01      NaN\n",
       "2013-02-04      NaN\n",
       "2013-02-05      NaN\n",
       "2013-02-06      NaN\n",
       "2013-02-07      NaN\n",
       "              ...  \n",
       "2023-03-30    0.582\n",
       "2023-03-31    0.452\n",
       "2023-04-03    0.390\n",
       "2023-04-04    0.406\n",
       "2023-04-05    0.998\n",
       "Name: SLOPE_5, Length: 2562, dtype: float64"
      ]
     },
     "execution_count": 8,
     "metadata": {},
     "output_type": "execute_result"
    }
   ],
   "source": [
    "metrics = ta.slope(df_ticker['close'],length=5)\n",
    "metrics"
   ]
  },
  {
   "cell_type": "code",
   "execution_count": 6,
   "metadata": {},
   "outputs": [
    {
     "data": {
      "text/html": [
       "<div>\n",
       "<style scoped>\n",
       "    .dataframe tbody tr th:only-of-type {\n",
       "        vertical-align: middle;\n",
       "    }\n",
       "\n",
       "    .dataframe tbody tr th {\n",
       "        vertical-align: top;\n",
       "    }\n",
       "\n",
       "    .dataframe thead th {\n",
       "        text-align: right;\n",
       "    }\n",
       "</style>\n",
       "<table border=\"1\" class=\"dataframe\">\n",
       "  <thead>\n",
       "    <tr style=\"text-align: right;\">\n",
       "      <th></th>\n",
       "      <th>datetime</th>\n",
       "      <th>open</th>\n",
       "      <th>high</th>\n",
       "      <th>low</th>\n",
       "      <th>close</th>\n",
       "      <th>adj_close</th>\n",
       "      <th>volume</th>\n",
       "      <th>MktCap</th>\n",
       "    </tr>\n",
       "    <tr>\n",
       "      <th>Date</th>\n",
       "      <th></th>\n",
       "      <th></th>\n",
       "      <th></th>\n",
       "      <th></th>\n",
       "      <th></th>\n",
       "      <th></th>\n",
       "      <th></th>\n",
       "      <th></th>\n",
       "    </tr>\n",
       "  </thead>\n",
       "  <tbody>\n",
       "    <tr>\n",
       "      <th>2013-02-01</th>\n",
       "      <td>2013-02-01</td>\n",
       "      <td>31.50</td>\n",
       "      <td>31.74</td>\n",
       "      <td>30.47</td>\n",
       "      <td>31.01</td>\n",
       "      <td>28.8851</td>\n",
       "      <td>66789477</td>\n",
       "      <td>NaN</td>\n",
       "    </tr>\n",
       "    <tr>\n",
       "      <th>2013-02-04</th>\n",
       "      <td>2013-02-04</td>\n",
       "      <td>31.09</td>\n",
       "      <td>31.99</td>\n",
       "      <td>30.76</td>\n",
       "      <td>31.02</td>\n",
       "      <td>28.8944</td>\n",
       "      <td>7695943</td>\n",
       "      <td>1.550844e+10</td>\n",
       "    </tr>\n",
       "    <tr>\n",
       "      <th>2013-02-05</th>\n",
       "      <td>2013-02-05</td>\n",
       "      <td>31.25</td>\n",
       "      <td>31.98</td>\n",
       "      <td>30.85</td>\n",
       "      <td>31.04</td>\n",
       "      <td>28.9130</td>\n",
       "      <td>5014316</td>\n",
       "      <td>1.551344e+10</td>\n",
       "    </tr>\n",
       "    <tr>\n",
       "      <th>2013-02-06</th>\n",
       "      <td>2013-02-06</td>\n",
       "      <td>30.98</td>\n",
       "      <td>31.43</td>\n",
       "      <td>30.75</td>\n",
       "      <td>31.03</td>\n",
       "      <td>28.9037</td>\n",
       "      <td>2126101</td>\n",
       "      <td>1.552345e+10</td>\n",
       "    </tr>\n",
       "    <tr>\n",
       "      <th>2013-02-07</th>\n",
       "      <td>2013-02-07</td>\n",
       "      <td>31.00</td>\n",
       "      <td>32.73</td>\n",
       "      <td>31.00</td>\n",
       "      <td>32.00</td>\n",
       "      <td>29.8073</td>\n",
       "      <td>3800770</td>\n",
       "      <td>1.551844e+10</td>\n",
       "    </tr>\n",
       "    <tr>\n",
       "      <th>...</th>\n",
       "      <td>...</td>\n",
       "      <td>...</td>\n",
       "      <td>...</td>\n",
       "      <td>...</td>\n",
       "      <td>...</td>\n",
       "      <td>...</td>\n",
       "      <td>...</td>\n",
       "      <td>...</td>\n",
       "    </tr>\n",
       "    <tr>\n",
       "      <th>2023-03-30</th>\n",
       "      <td>2023-03-30</td>\n",
       "      <td>163.83</td>\n",
       "      <td>164.65</td>\n",
       "      <td>163.18</td>\n",
       "      <td>164.15</td>\n",
       "      <td>164.1500</td>\n",
       "      <td>1318400</td>\n",
       "      <td>7.630381e+10</td>\n",
       "    </tr>\n",
       "    <tr>\n",
       "      <th>2023-03-31</th>\n",
       "      <td>2023-03-31</td>\n",
       "      <td>165.10</td>\n",
       "      <td>166.49</td>\n",
       "      <td>164.03</td>\n",
       "      <td>166.44</td>\n",
       "      <td>166.4400</td>\n",
       "      <td>1705000</td>\n",
       "      <td>7.700276e+10</td>\n",
       "    </tr>\n",
       "    <tr>\n",
       "      <th>2023-04-03</th>\n",
       "      <td>2023-04-03</td>\n",
       "      <td>166.79</td>\n",
       "      <td>167.92</td>\n",
       "      <td>164.20</td>\n",
       "      <td>167.66</td>\n",
       "      <td>167.6600</td>\n",
       "      <td>1926200</td>\n",
       "      <td>7.807700e+10</td>\n",
       "    </tr>\n",
       "    <tr>\n",
       "      <th>2023-04-04</th>\n",
       "      <td>2023-04-04</td>\n",
       "      <td>167.39</td>\n",
       "      <td>169.43</td>\n",
       "      <td>166.49</td>\n",
       "      <td>167.07</td>\n",
       "      <td>167.0700</td>\n",
       "      <td>1737900</td>\n",
       "      <td>7.864931e+10</td>\n",
       "    </tr>\n",
       "    <tr>\n",
       "      <th>2023-04-05</th>\n",
       "      <td>2023-04-05</td>\n",
       "      <td>167.00</td>\n",
       "      <td>168.61</td>\n",
       "      <td>166.30</td>\n",
       "      <td>167.65</td>\n",
       "      <td>167.6500</td>\n",
       "      <td>1177698</td>\n",
       "      <td>7.837254e+10</td>\n",
       "    </tr>\n",
       "  </tbody>\n",
       "</table>\n",
       "<p>2562 rows × 8 columns</p>\n",
       "</div>"
      ],
      "text/plain": [
       "             datetime    open    high     low   close  adj_close    volume  \\\n",
       "Date                                                                         \n",
       "2013-02-01 2013-02-01   31.50   31.74   30.47   31.01    28.8851  66789477   \n",
       "2013-02-04 2013-02-04   31.09   31.99   30.76   31.02    28.8944   7695943   \n",
       "2013-02-05 2013-02-05   31.25   31.98   30.85   31.04    28.9130   5014316   \n",
       "2013-02-06 2013-02-06   30.98   31.43   30.75   31.03    28.9037   2126101   \n",
       "2013-02-07 2013-02-07   31.00   32.73   31.00   32.00    29.8073   3800770   \n",
       "...               ...     ...     ...     ...     ...        ...       ...   \n",
       "2023-03-30 2023-03-30  163.83  164.65  163.18  164.15   164.1500   1318400   \n",
       "2023-03-31 2023-03-31  165.10  166.49  164.03  166.44   166.4400   1705000   \n",
       "2023-04-03 2023-04-03  166.79  167.92  164.20  167.66   167.6600   1926200   \n",
       "2023-04-04 2023-04-04  167.39  169.43  166.49  167.07   167.0700   1737900   \n",
       "2023-04-05 2023-04-05  167.00  168.61  166.30  167.65   167.6500   1177698   \n",
       "\n",
       "                  MktCap  \n",
       "Date                      \n",
       "2013-02-01           NaN  \n",
       "2013-02-04  1.550844e+10  \n",
       "2013-02-05  1.551344e+10  \n",
       "2013-02-06  1.552345e+10  \n",
       "2013-02-07  1.551844e+10  \n",
       "...                  ...  \n",
       "2023-03-30  7.630381e+10  \n",
       "2023-03-31  7.700276e+10  \n",
       "2023-04-03  7.807700e+10  \n",
       "2023-04-04  7.864931e+10  \n",
       "2023-04-05  7.837254e+10  \n",
       "\n",
       "[2562 rows x 8 columns]"
      ]
     },
     "execution_count": 6,
     "metadata": {},
     "output_type": "execute_result"
    }
   ],
   "source": [
    "df_ticker"
   ]
  },
  {
   "cell_type": "code",
   "execution_count": 65,
   "metadata": {},
   "outputs": [],
   "source": [
    "\n",
    "def slope_price( close, length=None, as_angle=None, to_degrees=None, vertical=None, offset=None, **kwargs):\n",
    "    \"\"\"Indicator: Slope\"\"\"\n",
    "    # Validate arguments\n",
    "    length = int(length) if length and length > 0 else 1\n",
    "    as_angle = True if isinstance(as_angle, bool) else False\n",
    "    to_degrees = True if isinstance(to_degrees, bool) else False\n",
    "    offset   = int(offset) if offset else 0\n",
    "\n",
    "    if close is None: return\n",
    "\n",
    "    # Calculate Result\n",
    "    slope = close.diff(length) / length\n",
    "    if as_angle:\n",
    "        slope = slope.apply(np.arctan)\n",
    "        if to_degrees:\n",
    "            slope *= 180 / np.pi\n",
    "\n",
    "    # Offset\n",
    "    if offset != 0:\n",
    "        slope = slope.shift(offset)\n",
    "\n",
    "    # Handle fills\n",
    "    if \"fillna\" in kwargs:\n",
    "        slope.fillna(kwargs[\"fillna\"], inplace=True)\n",
    "    if \"fill_method\" in kwargs:\n",
    "        slope.fillna(method=kwargs[\"fill_method\"], inplace=True)\n",
    "\n",
    "\n",
    "    return slope"
   ]
  },
  {
   "cell_type": "code",
   "execution_count": 66,
   "metadata": {},
   "outputs": [
    {
     "name": "stderr",
     "output_type": "stream",
     "text": [
      "100%|██████████| 866/866 [00:03<00:00, 234.10it/s]\n"
     ]
    }
   ],
   "source": [
    "import pandas_ta as ta\n",
    "from tqdm import tqdm\n",
    "results ={}\n",
    "for ticker in tqdm(market_data.index.get_level_values(1).unique()):\n",
    "    df_ticker = market_data.xs(ticker,level=1)\n",
    "    try :\n",
    "        metrics = slope_price(df_ticker['close'].ewm(alpha=0.5).mean(),length=5)\n",
    "        results[ticker] = metrics\n",
    "\n",
    "    except :\n",
    "        print(ticker)\n"
   ]
  },
  {
   "cell_type": "code",
   "execution_count": 67,
   "metadata": {},
   "outputs": [
    {
     "name": "stderr",
     "output_type": "stream",
     "text": [
      "C:\\Users\\marti\\AppData\\Local\\Temp\\ipykernel_26076\\1640268426.py:7: FutureWarning: Not prepending group keys to the result index of transform-like apply. In the future, the group keys will be included in the index, regardless of whether the applied function returns a like-indexed object.\n",
      "To preserve the previous behavior, use\n",
      "\n",
      "\t>>> .groupby(..., group_keys=False)\n",
      "\n",
      "To adopt the future behavior and silence this warning, use \n",
      "\n",
      "\t>>> .groupby(..., group_keys=True)\n",
      "  signal = signal[P].groupby(GICS['gicsect'],axis=1).apply(center)\n"
     ]
    },
    {
     "data": {
      "text/plain": [
       "Sharpe      1.4\n",
       "Turnover    0.6\n",
       "biais       2.8\n",
       "dtype: float64"
      ]
     },
     "execution_count": 67,
     "metadata": {},
     "output_type": "execute_result"
    },
    {
     "data": {
      "image/png": "[encoded data removed]",
      "text/plain": [
       "<Figure size 1000x600 with 1 Axes>"
      ]
     },
     "metadata": {},
     "output_type": "display_data"
    }
   ],
   "source": [
    "signal = pd.concat(results,axis=1).reindex_like(P).ffill()\n",
    "signal = signal[P].abs().rolling(5).max() * np.sign(signal[P])\n",
    "signal = signal[P].rank(axis=1,pct=True,ascending=False).clip(0.01,0.99).apply(norm.ppf)\n",
    "\n",
    "signal[signal.abs()<0.75] = None\n",
    "\n",
    "signal = signal[P].groupby(GICS['gicsect'],axis=1).apply(center)\n",
    "signal = signal[P].div(signal[P].abs().sum(1),0)\n",
    "\n",
    "PNL = (signal[P].shift()*R).sum(1).replace({0:np.nan}).dropna()\n",
    "sr = sharpe(PNL)\n",
    "turnover = signal.fillna(0).diff().abs().sum(1).mean()\n",
    "PNL.cumsum().plot()\n",
    "pd.Series({'Sharpe':sr,'Turnover':turnover,'biais':PNL.mean()*1e4}).round(1)"
   ]
  },
  {
   "cell_type": "code",
   "execution_count": 68,
   "metadata": {},
   "outputs": [
    {
     "data": {
      "text/plain": [
       "<Axes: >"
      ]
     },
     "execution_count": 68,
     "metadata": {},
     "output_type": "execute_result"
    },
    {
     "data": {
      "image/png": "[encoded data removed]",
      "text/plain": [
       "<Figure size 1000x600 with 1 Axes>"
      ]
     },
     "metadata": {},
     "output_type": "display_data"
    }
   ],
   "source": [
    "signal.count(1).plot(label ='# positions',legend=True)"
   ]
  },
  {
   "cell_type": "code",
   "execution_count": 69,
   "metadata": {},
   "outputs": [
    {
     "data": {
      "text/plain": [
       "<Axes: >"
      ]
     },
     "execution_count": 69,
     "metadata": {},
     "output_type": "execute_result"
    },
    {
     "data": {
      "image/png": "[encoded data removed]",
      "text/plain": [
       "<Figure size 1000x600 with 1 Axes>"
      ]
     },
     "metadata": {},
     "output_type": "display_data"
    }
   ],
   "source": [
    "signal.abs().sum(1).plot(label = 'absolute weights sum',legend=True)\n",
    "signal.sum(1).plot(label='weights sum',legend=True)"
   ]
  }
 ],
 "metadata": {
  "kernelspec": {
   "display_name": "Python 3",
   "language": "python",
   "name": "python3"
  },
  "language_info": {
   "codemirror_mode": {
    "name": "ipython",
    "version": 3
   },
   "file_extension": ".py",
   "mimetype": "text/x-python",
   "name": "python",
   "nbconvert_exporter": "python",
   "pygments_lexer": "ipython3",
   "version": "3.9.8"
  },
  "orig_nbformat": 4,
  "vscode": {
   "interpreter": {
    "hash": "3e24519b0ba229a6f9a71f39c1cb5a8bdc9138e2d11e58c1de9e81a631b04fde"
   }
  }
 },
 "nbformat": 4,
 "nbformat_minor": 2
}
