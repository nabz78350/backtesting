{
 "cells": [
  {
   "cell_type": "code",
   "execution_count": 67,
   "metadata": {},
   "outputs": [
    {
     "data": {
      "image/png": "[encoded data removed]",
      "text/plain": [
       "<Figure size 432x288 with 1 Axes>"
      ]
     },
     "metadata": {
      "needs_background": "light"
     },
     "output_type": "display_data"
    }
   ],
   "source": [
    "import pandas as pd\n",
    "import numpy as np\n",
    "from data_master import DataMaster\n",
    "from utils import func\n",
    "from scipy.stats import norm\n",
    "master = DataMaster()\n",
    "from utils.func import center\n",
    "from quantstats.stats import sharpe\n",
    "import datetime\n",
    "from tqdm import tqdm\n",
    "import pandas_ta as ta\n",
    "\n",
    "\n",
    "\n",
    "universe = master.baskets.get_index_historical_components('GSPC')\n",
    "P = func.presence_matrix(universe).loc['2008':]\n",
    "P.sum(1).plot()\n",
    "market_data = pd.read_parquet('data/US/mkt_data.pq')\n",
    "balance_sheet = pd.read_parquet('data/US/balance_sheets.pq')\n",
    "GICS = pd.read_parquet('data/US/GICS.pq')\n",
    "# P = pd.read_parquet('data/US/universe_table.pq')\n",
    "R = market_data['close'].unstack().reindex_like(P).pct_change()\n",
    "income_statement = pd.read_parquet('data/US/income_statement.pq')"
   ]
  },
  {
   "cell_type": "code",
   "execution_count": 72,
   "metadata": {},
   "outputs": [
    {
     "name": "stdout",
     "output_type": "stream",
     "text": [
      "Help on function cfo in module pandas_ta.momentum.cfo:\n",
      "\n",
      "cfo(close, length=None, scalar=None, drift=None, offset=None, **kwargs)\n",
      "    Chande Forcast Oscillator (CFO)\n",
      "    \n",
      "    The Forecast Oscillator calculates the percentage difference between the actual\n",
      "    price and the Time Series Forecast (the endpoint of a linear regression line).\n",
      "    \n",
      "    Sources:\n",
      "        https://www.fmlabs.com/reference/default.htm?url=ForecastOscillator.htm\n",
      "    \n",
      "    Calculation:\n",
      "        Default Inputs:\n",
      "            length=9, drift=1, scalar=100\n",
      "        LINREG = Linear Regression\n",
      "    \n",
      "        CFO = scalar * (close - LINERREG(length, tdf=True)) / close\n",
      "    \n",
      "    Args:\n",
      "        close (pd.Series): Series of 'close's\n",
      "        length (int): The period. Default: 9\n",
      "        scalar (float): How much to magnify. Default: 100\n",
      "        drift (int): The short period. Default: 1\n",
      "        offset (int): How many periods to offset the result. Default: 0\n",
      "    \n",
      "    Kwargs:\n",
      "        fillna (value, optional): pd.DataFrame.fillna(value)\n",
      "        fill_method (value, optional): Type of fill method\n",
      "    \n",
      "    Returns:\n",
      "        pd.Series: New feature generated.\n",
      "\n"
     ]
    }
   ],
   "source": [
    "help(ta.cfo)"
   ]
  },
  {
   "cell_type": "code",
   "execution_count": 78,
   "metadata": {},
   "outputs": [
    {
     "data": {
      "text/plain": [
       "Date\n",
       "2008-01-02         NaN\n",
       "2008-01-03         NaN\n",
       "2008-01-04         NaN\n",
       "2008-01-07         NaN\n",
       "2008-01-08         NaN\n",
       "                ...   \n",
       "2023-03-30    0.609890\n",
       "2023-03-31    1.445522\n",
       "2023-04-03    1.310696\n",
       "2023-04-04    0.525454\n",
       "2023-04-05   -0.997004\n",
       "Name: CFO_9, Length: 3842, dtype: float64"
      ]
     },
     "execution_count": 78,
     "metadata": {},
     "output_type": "execute_result"
    }
   ],
   "source": [
    "aapl = market_data.xs('AAPL',level=1)\n",
    "ta.cfo(aapl['high'])\n"
   ]
  },
  {
   "cell_type": "code",
   "execution_count": 79,
   "metadata": {},
   "outputs": [
    {
     "name": "stderr",
     "output_type": "stream",
     "text": [
      "100%|██████████| 863/863 [04:46<00:00,  3.02it/s]\n"
     ]
    }
   ],
   "source": [
    "squeeze_data ={}\n",
    "for ticker in tqdm(P.columns.tolist()):\n",
    "    try :\n",
    "        df_ticker = market_data.xs(ticker,level=1)\n",
    "        squeeze = ta.cfo(df_ticker['high']) + ta.cfo(df_ticker['low']) /2  - ta.cfo(df_ticker['close'])\n",
    "        # squeeze = ta.stoch(df_ticker['high'],df_ticker['low'],df_ticker['close'],k=10,mamode='ema',d=25).iloc[:,0]\n",
    "        squeeze_data[ticker] = squeeze\n",
    "    except :\n",
    "        pass"
   ]
  },
  {
   "cell_type": "code",
   "execution_count": 80,
   "metadata": {},
   "outputs": [
    {
     "data": {
      "text/plain": [
       "<Axes: >"
      ]
     },
     "execution_count": 80,
     "metadata": {},
     "output_type": "execute_result"
    },
    {
     "data": {
      "image/png": "[encoded data removed]",
      "text/plain": [
       "<Figure size 432x288 with 1 Axes>"
      ]
     },
     "metadata": {
      "needs_background": "light"
     },
     "output_type": "display_data"
    }
   ],
   "source": [
    "squeeze_data = pd.concat(squeeze_data,axis=1).reindex_like(P).ffill()\n",
    "squeeze_data.count(1).plot()"
   ]
  },
  {
   "cell_type": "code",
   "execution_count": 82,
   "metadata": {},
   "outputs": [
    {
     "name": "stderr",
     "output_type": "stream",
     "text": [
      "C:\\Users\\marti\\AppData\\Local\\Temp\\ipykernel_60556\\3805045238.py:2: FutureWarning: Passing additional kwargs to Rolling.rank has no impact on the result and is deprecated. This will raise a TypeError in a future version of pandas.\n",
      "  signal = signal[P].rolling(25).rank(axis=0,pct=True,ascending=False).clip(0.01,0.99).apply(norm.ppf)\n",
      "C:\\Users\\marti\\AppData\\Local\\Temp\\ipykernel_60556\\3805045238.py:7: FutureWarning: Not prepending group keys to the result index of transform-like apply. In the future, the group keys will be included in the index, regardless of whether the applied function returns a like-indexed object.\n",
      "To preserve the previous behavior, use\n",
      "\n",
      "\t>>> .groupby(..., group_keys=False)\n",
      "\n",
      "To adopt the future behavior and silence this warning, use \n",
      "\n",
      "\t>>> .groupby(..., group_keys=True)\n",
      "  signal = signal[P].groupby(GICS['gicgrp'],axis=1).apply(center)\n"
     ]
    },
    {
     "data": {
      "text/plain": [
       "Sharpe     -0.564\n",
       "Turnover    0.908\n",
       "biais      -0.787\n",
       "dtype: float64"
      ]
     },
     "execution_count": 82,
     "metadata": {},
     "output_type": "execute_result"
    },
    {
     "data": {
      "image/png": "[encoded data removed]",
      "text/plain": [
       "<Figure size 432x288 with 1 Axes>"
      ]
     },
     "metadata": {
      "needs_background": "light"
     },
     "output_type": "display_data"
    }
   ],
   "source": [
    "signal = squeeze_data[P].rank(1,pct=True,ascending=False).clip(0.01,0.99).apply(norm.ppf)\n",
    "signal = signal[P].rolling(25).rank(axis=0,pct=True,ascending=False).clip(0.01,0.99).apply(norm.ppf)\n",
    "signal = signal[P].rank(axis=1,pct=True,ascending=False).clip(0.01,0.99).apply(norm.ppf)\n",
    "\n",
    "signal[signal.abs()<0.25] = None\n",
    "\n",
    "signal = signal[P].groupby(GICS['gicgrp'],axis=1).apply(center)\n",
    "signal = signal[P].div(signal[P].abs().sum(1),0)\n",
    "\n",
    "PNL = (signal[P].shift()*R).sum(1).loc['2010':]\n",
    "sr = sharpe(PNL)\n",
    "turnover = signal.fillna(0).diff().abs().sum(1).mean()\n",
    "PNL.cumsum().plot()\n",
    "pd.Series({'Sharpe':sr,'Turnover':turnover,'biais':PNL.mean()*1e4}).round(3)"
   ]
  },
  {
   "cell_type": "code",
   "execution_count": null,
   "metadata": {},
   "outputs": [],
   "source": []
  }
 ],
 "metadata": {
  "kernelspec": {
   "display_name": "Python 3",
   "language": "python",
   "name": "python3"
  },
  "language_info": {
   "codemirror_mode": {
    "name": "ipython",
    "version": 3
   },
   "file_extension": ".py",
   "mimetype": "text/x-python",
   "name": "python",
   "nbconvert_exporter": "python",
   "pygments_lexer": "ipython3",
   "version": "3.9.8"
  },
  "orig_nbformat": 4,
  "vscode": {
   "interpreter": {
    "hash": "3e24519b0ba229a6f9a71f39c1cb5a8bdc9138e2d11e58c1de9e81a631b04fde"
   }
  }
 },
 "nbformat": 4,
 "nbformat_minor": 2
}
