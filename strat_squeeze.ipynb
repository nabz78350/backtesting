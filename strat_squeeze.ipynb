{
 "cells": [
  {
   "cell_type": "code",
   "execution_count": 3,
   "metadata": {},
   "outputs": [],
   "source": [
    "import pandas as pd\n",
    "import numpy as np\n",
    "from data_master import DataMaster\n",
    "from utils import func\n",
    "from scipy.stats import norm\n",
    "master = DataMaster()\n",
    "from utils.func import center\n",
    "from quantstats.stats import sharpe\n",
    "import matplotlib.pyplot as plt\n",
    "from tqdm import tqdm"
   ]
  },
  {
   "cell_type": "code",
   "execution_count": 4,
   "metadata": {},
   "outputs": [
    {
     "data": {
      "text/html": [
       "<div>\n",
       "<style scoped>\n",
       "    .dataframe tbody tr th:only-of-type {\n",
       "        vertical-align: middle;\n",
       "    }\n",
       "\n",
       "    .dataframe tbody tr th {\n",
       "        vertical-align: top;\n",
       "    }\n",
       "\n",
       "    .dataframe thead th {\n",
       "        text-align: right;\n",
       "    }\n",
       "</style>\n",
       "<table border=\"1\" class=\"dataframe\">\n",
       "  <thead>\n",
       "    <tr style=\"text-align: right;\">\n",
       "      <th></th>\n",
       "      <th></th>\n",
       "      <th>datetime</th>\n",
       "      <th>open</th>\n",
       "      <th>high</th>\n",
       "      <th>low</th>\n",
       "      <th>close</th>\n",
       "      <th>adj_close</th>\n",
       "      <th>volume</th>\n",
       "      <th>MktCap</th>\n",
       "    </tr>\n",
       "    <tr>\n",
       "      <th>Date</th>\n",
       "      <th>Ticker</th>\n",
       "      <th></th>\n",
       "      <th></th>\n",
       "      <th></th>\n",
       "      <th></th>\n",
       "      <th></th>\n",
       "      <th></th>\n",
       "      <th></th>\n",
       "      <th></th>\n",
       "    </tr>\n",
       "  </thead>\n",
       "  <tbody>\n",
       "    <tr>\n",
       "      <th>2011-06-27</th>\n",
       "      <th>CNX</th>\n",
       "      <td>2011-06-27</td>\n",
       "      <td>46.7119</td>\n",
       "      <td>47.4826</td>\n",
       "      <td>46.4116</td>\n",
       "      <td>47.1723</td>\n",
       "      <td>36.7184</td>\n",
       "      <td>2056337</td>\n",
       "      <td>1.073418e+10</td>\n",
       "    </tr>\n",
       "    <tr>\n",
       "      <th>2015-02-12</th>\n",
       "      <th>DOV</th>\n",
       "      <td>2015-02-12</td>\n",
       "      <td>58.5770</td>\n",
       "      <td>59.2228</td>\n",
       "      <td>58.3026</td>\n",
       "      <td>59.1501</td>\n",
       "      <td>50.2865</td>\n",
       "      <td>1113824</td>\n",
       "      <td>9.685300e+09</td>\n",
       "    </tr>\n",
       "    <tr>\n",
       "      <th>2017-05-22</th>\n",
       "      <th>GT</th>\n",
       "      <td>2017-05-22</td>\n",
       "      <td>31.9000</td>\n",
       "      <td>31.9200</td>\n",
       "      <td>31.3300</td>\n",
       "      <td>31.8200</td>\n",
       "      <td>29.3958</td>\n",
       "      <td>2735781</td>\n",
       "      <td>8.122880e+09</td>\n",
       "    </tr>\n",
       "    <tr>\n",
       "      <th>2022-06-27</th>\n",
       "      <th>IR</th>\n",
       "      <td>2022-06-27</td>\n",
       "      <td>43.6300</td>\n",
       "      <td>43.7700</td>\n",
       "      <td>42.8800</td>\n",
       "      <td>43.3900</td>\n",
       "      <td>43.3432</td>\n",
       "      <td>1800172</td>\n",
       "      <td>1.789962e+10</td>\n",
       "    </tr>\n",
       "    <tr>\n",
       "      <th>2013-07-29</th>\n",
       "      <th>WDC</th>\n",
       "      <td>2013-07-29</td>\n",
       "      <td>62.9200</td>\n",
       "      <td>62.9999</td>\n",
       "      <td>62.1200</td>\n",
       "      <td>62.6000</td>\n",
       "      <td>51.1872</td>\n",
       "      <td>2177403</td>\n",
       "      <td>1.540698e+10</td>\n",
       "    </tr>\n",
       "  </tbody>\n",
       "</table>\n",
       "</div>"
      ],
      "text/plain": [
       "                    datetime     open     high      low    close  adj_close  \\\n",
       "Date       Ticker                                                             \n",
       "2011-06-27 CNX    2011-06-27  46.7119  47.4826  46.4116  47.1723    36.7184   \n",
       "2015-02-12 DOV    2015-02-12  58.5770  59.2228  58.3026  59.1501    50.2865   \n",
       "2017-05-22 GT     2017-05-22  31.9000  31.9200  31.3300  31.8200    29.3958   \n",
       "2022-06-27 IR     2022-06-27  43.6300  43.7700  42.8800  43.3900    43.3432   \n",
       "2013-07-29 WDC    2013-07-29  62.9200  62.9999  62.1200  62.6000    51.1872   \n",
       "\n",
       "                    volume        MktCap  \n",
       "Date       Ticker                         \n",
       "2011-06-27 CNX     2056337  1.073418e+10  \n",
       "2015-02-12 DOV     1113824  9.685300e+09  \n",
       "2017-05-22 GT      2735781  8.122880e+09  \n",
       "2022-06-27 IR      1800172  1.789962e+10  \n",
       "2013-07-29 WDC     2177403  1.540698e+10  "
      ]
     },
     "execution_count": 4,
     "metadata": {},
     "output_type": "execute_result"
    }
   ],
   "source": [
    "market_data = pd.read_parquet('data/US/mkt_data.pq')\n",
    "balance_sheet = pd.read_parquet('data/US/balance_sheets.pq')\n",
    "GICS = pd.read_parquet('data/US/GICS.pq')\n",
    "P = pd.read_parquet('data/US/universe_table.pq')\n",
    "R = market_data['close'].unstack().reindex_like(P).pct_change()\n",
    "market_data.dropna().sample(5)"
   ]
  },
  {
   "cell_type": "code",
   "execution_count": 5,
   "metadata": {},
   "outputs": [
    {
     "name": "stderr",
     "output_type": "stream",
     "text": [
      "100%|██████████| 866/866 [03:21<00:00,  4.30it/s]\n"
     ]
    }
   ],
   "source": [
    "import pandas_ta as ta\n",
    "from tqdm import tqdm\n",
    "results ={}\n",
    "for ticker in tqdm(market_data.index.get_level_values(1).unique()):\n",
    "    df_ticker =  market_data.xs(ticker,level=1)\n",
    "\n",
    "    try :\n",
    "        metrics = ta.ssf(df_ticker['close'],length=5,poles=2).fillna(0)\n",
    "        results[ticker] = metrics\n",
    "    except :\n",
    "        pass\n",
    "\n",
    "results = pd. concat (results, axis=1)\n",
    "results = results.reindex_like(P).ffill()\n"
   ]
  },
  {
   "cell_type": "code",
   "execution_count": 6,
   "metadata": {},
   "outputs": [
    {
     "name": "stderr",
     "output_type": "stream",
     "text": [
      "C:\\Users\\marti\\AppData\\Local\\Temp\\ipykernel_3844\\1954979550.py:2: FutureWarning: Passing additional kwargs to Rolling.rank has no impact on the result and is deprecated. This will raise a TypeError in a future version of pandas.\n",
      "  signal = signal[P].rolling(10).rank(axis=0,pct=True,ascending=False)\n",
      "C:\\Users\\marti\\AppData\\Local\\Temp\\ipykernel_3844\\1954979550.py:6: FutureWarning: Not prepending group keys to the result index of transform-like apply. In the future, the group keys will be included in the index, regardless of whether the applied function returns a like-indexed object.\n",
      "To preserve the previous behavior, use\n",
      "\n",
      "\t>>> .groupby(..., group_keys=False)\n",
      "\n",
      "To adopt the future behavior and silence this warning, use \n",
      "\n",
      "\t>>> .groupby(..., group_keys=True)\n",
      "  signal = signal[P].groupby(GICS['gicgrp'],axis=1).apply(center)\n"
     ]
    },
    {
     "data": {
      "text/plain": [
       "Sharpe     -1.6\n",
       "Turnover    0.7\n",
       "biais      -2.6\n",
       "dtype: float64"
      ]
     },
     "execution_count": 6,
     "metadata": {},
     "output_type": "execute_result"
    },
    {
     "data": {
      "image/png": "[encoded data removed]",
      "text/plain": [
       "<Figure size 1000x600 with 1 Axes>"
      ]
     },
     "metadata": {},
     "output_type": "display_data"
    }
   ],
   "source": [
    "signal = results[P]\n",
    "signal = signal[P].rolling(10).rank(axis=0,pct=True,ascending=False)\n",
    "signal = signal[P].rank(axis=1,pct=True,ascending=False).clip(0.01,0.99).apply(norm.ppf)\n",
    "signal[signal.abs()<0.5] = 0\n",
    "\n",
    "signal = signal[P].groupby(GICS['gicgrp'],axis=1).apply(center)\n",
    "signal = signal[P].div(signal[P].abs().sum(1),0)\n",
    "\n",
    "PNL = (signal[P].shift()*R).sum(1).replace({0:np.nan}).dropna()\n",
    "sr = sharpe(PNL)\n",
    "turnover = signal.fillna(0).diff().abs().sum(1).mean()\n",
    "PNL.cumsum().plot()\n",
    "pd.Series({'Sharpe':sr,'Turnover':turnover,'biais':PNL.mean()*1e4}).round(1)"
   ]
  }
 ],
 "metadata": {
  "kernelspec": {
   "display_name": "Python 3",
   "language": "python",
   "name": "python3"
  },
  "language_info": {
   "codemirror_mode": {
    "name": "ipython",
    "version": 3
   },
   "file_extension": ".py",
   "mimetype": "text/x-python",
   "name": "python",
   "nbconvert_exporter": "python",
   "pygments_lexer": "ipython3",
   "version": "3.9.8"
  },
  "orig_nbformat": 4,
  "vscode": {
   "interpreter": {
    "hash": "3e24519b0ba229a6f9a71f39c1cb5a8bdc9138e2d11e58c1de9e81a631b04fde"
   }
  }
 },
 "nbformat": 4,
 "nbformat_minor": 2
}
