{
 "cells": [
  {
   "attachments": {},
   "cell_type": "markdown",
   "metadata": {},
   "source": [
    "## Strategy based on slope of Close time series\n",
    "\n",
    "This signal is based on the slope of tickers close price time series over the 5 last trading days\n",
    "Close price are previously smoothed with a exponential mean\n",
    "\n",
    "\n",
    "The signal is magnified by taking the maximum of the 21 days last slope values, multiplied by the sign of the slope time series last data point"
   ]
  },
  {
   "cell_type": "code",
   "execution_count": null,
   "metadata": {},
   "outputs": [],
   "source": [
    "import pandas as pd\n",
    "import numpy as np\n",
    "from data_master import DataMaster\n",
    "from utils import func\n",
    "from scipy.stats import norm\n",
    "master = DataMaster()\n",
    "from utils.func import center\n",
    "from quantstats.stats import sharpe\n",
    "import matplotlib.pyplot as plt\n",
    "from tqdm import tqdm"
   ]
  },
  {
   "cell_type": "code",
   "execution_count": null,
   "metadata": {},
   "outputs": [],
   "source": [
    "market_data = pd.read_parquet('data/US/mkt_data.pq')\n",
    "balance_sheet = pd.read_parquet('data/US/balance_sheets.pq')\n",
    "GICS = pd.read_parquet('data/US/GICS.pq')\n",
    "P = pd.read_parquet('data/US/universe_table.pq')\n",
    "R = market_data['close'].unstack().reindex_like(P).pct_change()\n",
    "market_data.dropna().sample(5)"
   ]
  },
  {
   "cell_type": "code",
   "execution_count": null,
   "metadata": {},
   "outputs": [],
   "source": [
    "\n",
    "def slope_price( close, length=None, as_angle=None, to_degrees=None, vertical=None, offset=None, **kwargs):\n",
    "\n",
    "    length = int(length) if length and length > 0 else 1\n",
    "    as_angle = True if isinstance(as_angle, bool) else False\n",
    "    to_degrees = True if isinstance(to_degrees, bool) else False\n",
    "    offset   = int(offset) if offset else 0\n",
    "\n",
    "    if close is None: return\n",
    "\n",
    "    slope = close.diff(length) / length\n",
    "    if as_angle:\n",
    "        slope = slope.apply(np.arctan)\n",
    "        if to_degrees:\n",
    "            slope *= 180 / np.pi\n",
    "\n",
    "    if offset != 0:\n",
    "        slope = slope.shift(offset)\n",
    "\n",
    "\n",
    "    if \"fillna\" in kwargs:\n",
    "        slope.fillna(kwargs[\"fillna\"], inplace=True)\n",
    "    if \"fill_method\" in kwargs:\n",
    "        slope.fillna(method=kwargs[\"fill_method\"], inplace=True)\n",
    "\n",
    "\n",
    "    return slope"
   ]
  },
  {
   "cell_type": "code",
   "execution_count": null,
   "metadata": {},
   "outputs": [],
   "source": [
    "results ={}\n",
    "for ticker in tqdm(market_data.index.get_level_values(1).unique()):\n",
    "    df_ticker = market_data.xs(ticker,level=1)\n",
    "    try :\n",
    "        metrics = slope_price(df_ticker['close'].ewm(alpha=0.5).mean(),length=5)\n",
    "        results[ticker] = metrics\n",
    "    except :\n",
    "        print(ticker)"
   ]
  },
  {
   "cell_type": "code",
   "execution_count": null,
   "metadata": {},
   "outputs": [],
   "source": [
    "signal = pd.concat(results,axis=1).reindex_like(P).ffill()\n",
    "signal = signal[P].abs().rolling(21).max() * np.sign(signal[P])\n",
    "signal = signal[P].rank(axis=1,pct=True,ascending=False).clip(0.01,0.99).apply(norm.ppf)\n",
    "signal[signal.abs()<0.5] = None\n",
    "\n",
    "signal = signal[P].groupby(GICS['gicgrp'],axis=1).apply(center)\n",
    "signal = signal[P].div(signal[P].abs().sum(1),0)\n",
    "\n",
    "PNL = (signal[P].shift()*R).sum(1)\n",
    "sr = sharpe(PNL)\n",
    "turnover = signal.fillna(0).diff().abs().sum(1).mean()\n",
    "PNL.cumsum().plot()\n",
    "pd.Series({'Sharpe':sr,'Average Daily turnover (%)':turnover *100,'Average daily pnl (bps) ':PNL.mean()*1e4}).round(1)"
   ]
  },
  {
   "cell_type": "code",
   "execution_count": null,
   "metadata": {},
   "outputs": [],
   "source": [
    "signal.count(1).plot(label ='# positions',legend=True)"
   ]
  },
  {
   "cell_type": "code",
   "execution_count": null,
   "metadata": {},
   "outputs": [],
   "source": [
    "signal.abs().sum(1).plot(label = 'absolute weights sum',legend=True)\n",
    "signal.sum(1).plot(label='weights sum',legend=True)"
   ]
  },
  {
   "cell_type": "code",
   "execution_count": null,
   "metadata": {},
   "outputs": [],
   "source": [
    "import quantstats as qs\n",
    "SP500 = qs.utils.download_returns('SPY')\n",
    "\n",
    "# report with fancy (and some unuseful) stats\n",
    "qs.reports.html(PNL, \"SPY\",title = 'Strategy Slope')"
   ]
  },
  {
   "cell_type": "code",
   "execution_count": null,
   "metadata": {},
   "outputs": [],
   "source": [
    "PNL.to_csv('data/US/strat_slope_pnl.csv')"
   ]
  },
  {
   "cell_type": "code",
   "execution_count": 9,
   "metadata": {},
   "outputs": [
    {
     "name": "stdout",
     "output_type": "stream",
     "text": [
      "Note: you may need to restart the kernel to use updated packages.\n"
     ]
    },
    {
     "name": "stderr",
     "output_type": "stream",
     "text": [
      "ERROR: Could not find a version that satisfies the requirement learning2rank (from versions: none)\n",
      "ERROR: No matching distribution found for learning2rank\n",
      "WARNING: You are using pip version 21.2.4; however, version 23.2.1 is available.\n",
      "You should consider upgrading via the 'c:\\Users\\marti\\AppData\\Local\\Programs\\Python\\Python39\\python.exe -m pip install --upgrade pip' command.\n"
     ]
    }
   ],
   "source": [
    "pip install learning2rank"
   ]
  }
 ],
 "metadata": {
  "kernelspec": {
   "display_name": "Python 3",
   "language": "python",
   "name": "python3"
  },
  "language_info": {
   "codemirror_mode": {
    "name": "ipython",
    "version": 3
   },
   "file_extension": ".py",
   "mimetype": "text/x-python",
   "name": "python",
   "nbconvert_exporter": "python",
   "pygments_lexer": "ipython3",
   "version": "3.9.8 (tags/v3.9.8:bb3fdcf, Nov  5 2021, 20:48:33) [MSC v.1929 64 bit (AMD64)]"
  },
  "orig_nbformat": 4,
  "vscode": {
   "interpreter": {
    "hash": "3e24519b0ba229a6f9a71f39c1cb5a8bdc9138e2d11e58c1de9e81a631b04fde"
   }
  }
 },
 "nbformat": 4,
 "nbformat_minor": 2
}
