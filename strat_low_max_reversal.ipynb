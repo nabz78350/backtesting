{
 "cells": [
  {
   "cell_type": "code",
   "execution_count": 1,
   "metadata": {},
   "outputs": [],
   "source": [
    "import pandas as pd\n",
    "import numpy as np\n",
    "from data_master import DataMaster\n",
    "from utils import func\n",
    "from scipy.stats import norm\n",
    "master = DataMaster()\n",
    "from utils.func import center\n",
    "from quantstats.stats import sharpe\n",
    "import matplotlib.pyplot as plt"
   ]
  },
  {
   "cell_type": "code",
   "execution_count": 2,
   "metadata": {},
   "outputs": [
    {
     "name": "stderr",
     "output_type": "stream",
     "text": [
      "C:\\Users\\marti\\AppData\\Local\\Temp\\ipykernel_26256\\2249672503.py:5: FutureWarning: The default fill_method='pad' in DataFrame.pct_change is deprecated and will be removed in a future version. Either fill in any non-leading NA values prior to calling pct_change or specify 'fill_method=None' to not fill NA values.\n",
      "  R = market_data['close'].unstack().reindex_like(P).pct_change()\n"
     ]
    },
    {
     "data": {
      "text/html": [
       "<div>\n",
       "<style scoped>\n",
       "    .dataframe tbody tr th:only-of-type {\n",
       "        vertical-align: middle;\n",
       "    }\n",
       "\n",
       "    .dataframe tbody tr th {\n",
       "        vertical-align: top;\n",
       "    }\n",
       "\n",
       "    .dataframe thead th {\n",
       "        text-align: right;\n",
       "    }\n",
       "</style>\n",
       "<table border=\"1\" class=\"dataframe\">\n",
       "  <thead>\n",
       "    <tr style=\"text-align: right;\">\n",
       "      <th></th>\n",
       "      <th></th>\n",
       "      <th>datetime</th>\n",
       "      <th>open</th>\n",
       "      <th>high</th>\n",
       "      <th>low</th>\n",
       "      <th>close</th>\n",
       "      <th>adj_close</th>\n",
       "      <th>volume</th>\n",
       "      <th>MktCap</th>\n",
       "    </tr>\n",
       "    <tr>\n",
       "      <th>Date</th>\n",
       "      <th>Ticker</th>\n",
       "      <th></th>\n",
       "      <th></th>\n",
       "      <th></th>\n",
       "      <th></th>\n",
       "      <th></th>\n",
       "      <th></th>\n",
       "      <th></th>\n",
       "      <th></th>\n",
       "    </tr>\n",
       "  </thead>\n",
       "  <tbody>\n",
       "    <tr>\n",
       "      <th>2024-01-11</th>\n",
       "      <th>SWN</th>\n",
       "      <td>2024-01-11</td>\n",
       "      <td>6.80</td>\n",
       "      <td>7.020</td>\n",
       "      <td>6.665</td>\n",
       "      <td>6.72</td>\n",
       "      <td>6.7200</td>\n",
       "      <td>85232648</td>\n",
       "      <td>2.869573e+12</td>\n",
       "    </tr>\n",
       "    <tr>\n",
       "      <th>2021-01-05</th>\n",
       "      <th>WY</th>\n",
       "      <td>2021-01-05</td>\n",
       "      <td>32.87</td>\n",
       "      <td>33.320</td>\n",
       "      <td>32.805</td>\n",
       "      <td>33.12</td>\n",
       "      <td>28.7106</td>\n",
       "      <td>3908983</td>\n",
       "      <td>2.204016e+12</td>\n",
       "    </tr>\n",
       "    <tr>\n",
       "      <th>2023-06-13</th>\n",
       "      <th>PARA</th>\n",
       "      <td>2023-06-13</td>\n",
       "      <td>16.61</td>\n",
       "      <td>16.890</td>\n",
       "      <td>16.560</td>\n",
       "      <td>16.62</td>\n",
       "      <td>16.4556</td>\n",
       "      <td>9224925</td>\n",
       "      <td>2.883228e+12</td>\n",
       "    </tr>\n",
       "    <tr>\n",
       "      <th>2021-02-02</th>\n",
       "      <th>AIZ</th>\n",
       "      <td>2021-02-02</td>\n",
       "      <td>136.05</td>\n",
       "      <td>136.295</td>\n",
       "      <td>133.380</td>\n",
       "      <td>133.51</td>\n",
       "      <td>125.7366</td>\n",
       "      <td>697166</td>\n",
       "      <td>2.266225e+12</td>\n",
       "    </tr>\n",
       "    <tr>\n",
       "      <th>2022-02-15</th>\n",
       "      <th>MOS</th>\n",
       "      <td>2022-02-15</td>\n",
       "      <td>44.57</td>\n",
       "      <td>45.830</td>\n",
       "      <td>42.910</td>\n",
       "      <td>45.58</td>\n",
       "      <td>43.9721</td>\n",
       "      <td>6181683</td>\n",
       "      <td>2.819836e+12</td>\n",
       "    </tr>\n",
       "  </tbody>\n",
       "</table>\n",
       "</div>"
      ],
      "text/plain": [
       "                    datetime    open     high      low   close  adj_close  \\\n",
       "Date       Ticker                                                           \n",
       "2024-01-11 SWN    2024-01-11    6.80    7.020    6.665    6.72     6.7200   \n",
       "2021-01-05 WY     2021-01-05   32.87   33.320   32.805   33.12    28.7106   \n",
       "2023-06-13 PARA   2023-06-13   16.61   16.890   16.560   16.62    16.4556   \n",
       "2021-02-02 AIZ    2021-02-02  136.05  136.295  133.380  133.51   125.7366   \n",
       "2022-02-15 MOS    2022-02-15   44.57   45.830   42.910   45.58    43.9721   \n",
       "\n",
       "                     volume        MktCap  \n",
       "Date       Ticker                          \n",
       "2024-01-11 SWN     85232648  2.869573e+12  \n",
       "2021-01-05 WY       3908983  2.204016e+12  \n",
       "2023-06-13 PARA     9224925  2.883228e+12  \n",
       "2021-02-02 AIZ       697166  2.266225e+12  \n",
       "2022-02-15 MOS      6181683  2.819836e+12  "
      ]
     },
     "execution_count": 2,
     "metadata": {},
     "output_type": "execute_result"
    }
   ],
   "source": [
    "market_data = pd.read_parquet('data/US/test_mkt_data.pq')\n",
    "GICS = pd.read_parquet('data/US/test_GICS.pq')\n",
    "P = pd.read_parquet('data/US/test_universe_table.pq')\n",
    "P.index.names = ['Date']\n",
    "R = market_data['close'].unstack().reindex_like(P).pct_change()\n",
    "market_data.dropna().sample(5)"
   ]
  },
  {
   "cell_type": "code",
   "execution_count": 3,
   "metadata": {},
   "outputs": [],
   "source": [
    "volume = market_data['volume'].unstack().ffill(limit=5)\n",
    "close = market_data['close'].unstack()\n",
    "open = market_data['open'].unstack()\n",
    "low = market_data['low'].unstack()\n",
    "high = market_data['high'].unstack()\n",
    "mean_price = (close+ open + low).fillna(0) / 3\n"
   ]
  },
  {
   "cell_type": "code",
   "execution_count": 4,
   "metadata": {},
   "outputs": [],
   "source": [
    "close_low = (close - low).div(close,0)\n",
    "high_close = (high - close).div(close,0) \n",
    "high_low = (high - low).div(close,0) \n",
    "diff_1 = close_low - high_close\n",
    "div_1 = diff_1.div(high_low,0)\n",
    "mult_1 = volume.mul(div_1,0)\n",
    "z_score = mult_1.rolling(5).mean()\n",
    "z_score = z_score.reindex_like(P).ffill()"
   ]
  },
  {
   "cell_type": "code",
   "execution_count": 5,
   "metadata": {},
   "outputs": [
    {
     "name": "stderr",
     "output_type": "stream",
     "text": [
      "C:\\Users\\marti\\AppData\\Local\\Temp\\ipykernel_26256\\394737094.py:4: FutureWarning: DataFrame.groupby with axis=1 is deprecated. Do `frame.T.groupby(...)` without axis instead.\n",
      "  signal = signal[P].groupby(GICS['gicind'],axis=1).apply(center)\n"
     ]
    },
    {
     "data": {
      "text/plain": [
       "Sharpe                     1.8\n",
       "Daily Turnover (%)        77.4\n",
       "biais (bp)                 2.9\n",
       "Sharpe since 2022          0.8\n",
       "biais  since 2022 (bp)     1.2\n",
       "dtype: float64"
      ]
     },
     "execution_count": 5,
     "metadata": {},
     "output_type": "execute_result"
    },
    {
     "data": {
      "image/png": "[encoded data removed]",
      "text/plain": [
       "<Figure size 1000x600 with 1 Axes>"
      ]
     },
     "metadata": {},
     "output_type": "display_data"
    }
   ],
   "source": [
    "signal = z_score[P].rank(axis=1,pct=True,ascending=False).clip(0.01,0.99).apply(norm.ppf)\n",
    "signal[signal.abs()<0.5] = None\n",
    "\n",
    "signal = signal[P].groupby(GICS['gicind'],axis=1).apply(center)\n",
    "signal = signal[P].div(signal[P].abs().sum(1),0)\n",
    "\n",
    "PNL = (signal[P].shift()*R[P]).sum(1)\n",
    "sr = sharpe(PNL)\n",
    "turnover = signal.fillna(0).diff().abs().sum(1).mean()\n",
    "PNL.cumsum().plot()\n",
    "pd.Series({'Sharpe':sr,\n",
    "           'Daily Turnover (%)':turnover *100,\n",
    "           'biais (bp)':PNL.mean()*1e4,\n",
    "           'Sharpe since 2022' : sharpe(PNL.loc['2022':]),\n",
    "           'biais  since 2022 (bp)':PNL.loc['2022':].mean()*1e4}).round(1)"
   ]
  }
 ],
 "metadata": {
  "kernelspec": {
   "display_name": "Python 3",
   "language": "python",
   "name": "python3"
  },
  "language_info": {
   "codemirror_mode": {
    "name": "ipython",
    "version": 3
   },
   "file_extension": ".py",
   "mimetype": "text/x-python",
   "name": "python",
   "nbconvert_exporter": "python",
   "pygments_lexer": "ipython3",
   "version": "3.11.5"
  },
  "orig_nbformat": 4,
  "vscode": {
   "interpreter": {
    "hash": "08f57244d2f3420109eb4a4246849699d07d1b1540cb0230b33c3c9bc0f89fba"
   }
  }
 },
 "nbformat": 4,
 "nbformat_minor": 2
}
